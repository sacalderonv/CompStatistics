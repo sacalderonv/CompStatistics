{
 "cells": [
  {
   "cell_type": "markdown",
   "metadata": {},
   "source": [
    "# Método de la transformada inversa"
   ]
  },
  {
   "cell_type": "markdown",
   "metadata": {},
   "source": [
    "## Método de la transformada inversa para simular va´s exponenciales"
   ]
  },
  {
   "cell_type": "markdown",
   "metadata": {},
   "source": [
    "Si $X\\sim \\exp(\\lambda)$, entonces su función de distirbución acumulada viene dada por:<br>\n",
    "$F(x)=1-\\exp(-\\frac{x}{\\beta})$.<br>\n",
    "La inversa viene dada por $F^{-1}(x)=-\\beta\\log(1-x)$"
   ]
  },
  {
   "cell_type": "code",
   "execution_count": 5,
   "metadata": {},
   "outputs": [],
   "source": [
    "from scipy.stats import uniform\n",
    "from scipy.stats import kstest\n",
    "import matplotlib.pyplot as plt\n",
    "\n",
    "\n",
    "\n",
    "import numpy as np\n",
    "n=100\n",
    "beta=0.5\n"
   ]
  },
  {
   "cell_type": "code",
   "execution_count": 3,
   "metadata": {},
   "outputs": [
    {
     "data": {
      "text/plain": [
       "numpy.ndarray"
      ]
     },
     "execution_count": 3,
     "metadata": {},
     "output_type": "execute_result"
    }
   ],
   "source": [
    "U=uniform.rvs(size=n)\n",
    "type(U)"
   ]
  },
  {
   "cell_type": "code",
   "execution_count": 4,
   "metadata": {},
   "outputs": [
    {
     "name": "stdout",
     "output_type": "stream",
     "text": [
      "[1.01483968 0.52757452 0.92482154 0.6497714  0.1748626  0.07567868\n",
      " 0.0879527  1.03940508 0.72810992 1.18911677 0.01181905 0.26255059\n",
      " 0.14964295 0.42058462 0.28653887 0.01346498 0.27207697 0.28948982\n",
      " 0.28532683 1.1106133  0.53599956 0.40019083 0.20645755 0.47651087\n",
      " 0.14074225 0.2929272  1.40693831 0.53446906 0.28263266 0.20916075\n",
      " 0.11804834 0.53911681 0.47444693 0.13107508 0.18807766 1.85838474\n",
      " 0.08454152 0.07797622 0.56648515 1.77347131 0.16392893 1.96127625\n",
      " 0.63375232 0.48146858 0.37350626 0.2338454  0.79097585 0.91006958\n",
      " 0.04748855 1.11528818 1.23618886 0.38219404 0.26119299 0.6206396\n",
      " 0.67617018 0.04786775 0.76238275 0.14394285 0.06229553 0.55384678\n",
      " 0.68998433 0.39483334 0.19444423 0.28014251 1.4402171  0.60491733\n",
      " 0.34629654 0.1348668  0.42310101 0.89085827 0.31824091 0.81948319\n",
      " 0.35545969 0.41633897 0.62177123 0.19827355 0.53478895 0.11877626\n",
      " 0.11100301 0.60532842 0.27676376 0.07673504 0.37332995 0.30933318\n",
      " 0.00904087 0.58836346 0.72270232 0.52889713 0.42356395 0.0212971\n",
      " 0.26043332 0.00381959 0.30527018 0.88329151 0.22241121 0.40939883\n",
      " 0.50862802 0.3379822  0.21593363 0.54273364]\n"
     ]
    },
    {
     "data": {
      "image/png": "[encoded data removed]",
      "text/plain": [
       "<Figure size 432x288 with 1 Axes>"
      ]
     },
     "metadata": {
      "needs_background": "light"
     },
     "output_type": "display_data"
    },
    {
     "data": {
      "text/plain": [
       "0.47789269405094076"
      ]
     },
     "execution_count": 4,
     "metadata": {},
     "output_type": "execute_result"
    }
   ],
   "source": [
    "Expo=-beta*np.log(1-U)\n",
    "print(Expo)\n",
    "fig, ax = plt.subplots(1, 1)\n",
    "ax.hist(Expo, density=True, histtype='stepfilled', alpha=0.2)\n",
    "plt.show()\n",
    "np.mean(Expo)#Está cercano de beta"
   ]
  },
  {
   "cell_type": "code",
   "execution_count": 16,
   "metadata": {},
   "outputs": [
    {
     "data": {
      "text/plain": [
       "KstestResult(statistic=0.09599446478273105, pvalue=0.2971191089757911)"
      ]
     },
     "execution_count": 16,
     "metadata": {},
     "output_type": "execute_result"
    }
   ],
   "source": [
    "kstest(Expo,'expon', args=(0,beta))"
   ]
  },
  {
   "cell_type": "code",
   "execution_count": null,
   "metadata": {},
   "outputs": [],
   "source": [
    "kstest()"
   ]
  }
 ],
 "metadata": {
  "kernelspec": {
   "display_name": "Python 3",
   "language": "python",
   "name": "python3"
  },
  "language_info": {
   "codemirror_mode": {
    "name": "ipython",
    "version": 3
   },
   "file_extension": ".py",
   "mimetype": "text/x-python",
   "name": "python",
   "nbconvert_exporter": "python",
   "pygments_lexer": "ipython3",
   "version": "3.7.3"
  }
 },
 "nbformat": 4,
 "nbformat_minor": 2
}
