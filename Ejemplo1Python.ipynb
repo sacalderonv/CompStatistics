{
 "cells": [
  {
   "cell_type": "code",
   "execution_count": 1,
   "metadata": {},
   "outputs": [],
   "source": [
    "from IPython.core.interactiveshell import InteractiveShell\n",
    "InteractiveShell.ast_node_interactivity = \"all\""
   ]
  },
  {
   "cell_type": "markdown",
   "metadata": {},
   "source": [
    "# Introducción a la programación"
   ]
  },
  {
   "cell_type": "markdown",
   "metadata": {},
   "source": [
    "## Operadores"
   ]
  },
  {
   "cell_type": "code",
   "execution_count": 2,
   "metadata": {},
   "outputs": [
    {
     "data": {
      "text/plain": [
       "9"
      ]
     },
     "execution_count": 2,
     "metadata": {},
     "output_type": "execute_result"
    },
    {
     "data": {
      "text/plain": [
       "-1"
      ]
     },
     "execution_count": 2,
     "metadata": {},
     "output_type": "execute_result"
    },
    {
     "data": {
      "text/plain": [
       "35"
      ]
     },
     "execution_count": 2,
     "metadata": {},
     "output_type": "execute_result"
    },
    {
     "data": {
      "text/plain": [
       "1.5"
      ]
     },
     "execution_count": 2,
     "metadata": {},
     "output_type": "execute_result"
    },
    {
     "data": {
      "text/plain": [
       "36"
      ]
     },
     "execution_count": 2,
     "metadata": {},
     "output_type": "execute_result"
    },
    {
     "data": {
      "text/plain": [
       "int"
      ]
     },
     "execution_count": 2,
     "metadata": {},
     "output_type": "execute_result"
    },
    {
     "data": {
      "text/plain": [
       "float"
      ]
     },
     "execution_count": 2,
     "metadata": {},
     "output_type": "execute_result"
    },
    {
     "data": {
      "text/plain": [
       "str"
      ]
     },
     "execution_count": 2,
     "metadata": {},
     "output_type": "execute_result"
    }
   ],
   "source": [
    "5+4 # Suma\n",
    "6-7 #Resta\n",
    "7*5 #Multiplicación\n",
    "6/4 #División\n",
    "6**2 #Potenciación\n",
    "\n",
    "type(2)\n",
    "type(42.0)\n",
    "type('Hola, cómo están?')\n"
   ]
  },
  {
   "cell_type": "markdown",
   "metadata": {},
   "source": [
    "## Asignaciones"
   ]
  },
  {
   "cell_type": "code",
   "execution_count": 3,
   "metadata": {},
   "outputs": [],
   "source": [
    "# Se puede hacer asignaciones igual que en R, es decir usando el signo #\n",
    "message='Aprendiendo Python, puedes seguir!'\n",
    "n=17\n",
    "pi=3.1415926535"
   ]
  },
  {
   "cell_type": "code",
   "execution_count": 4,
   "metadata": {},
   "outputs": [
    {
     "ename": "SyntaxError",
     "evalue": "invalid syntax (<ipython-input-4-b84cd0d24000>, line 1)",
     "output_type": "error",
     "traceback": [
      "\u001b[0;36m  File \u001b[0;32m\"<ipython-input-4-b84cd0d24000>\"\u001b[0;36m, line \u001b[0;32m1\u001b[0m\n\u001b[0;31m    76trombones='big parade' ###Se empieza con un número\u001b[0m\n\u001b[0m              ^\u001b[0m\n\u001b[0;31mSyntaxError\u001b[0m\u001b[0;31m:\u001b[0m invalid syntax\n"
     ]
    }
   ],
   "source": [
    "##76trombones='big parade' ###Se empieza con un número\n",
    "\n"
   ]
  },
  {
   "cell_type": "code",
   "execution_count": 5,
   "metadata": {},
   "outputs": [
    {
     "ename": "FileNotFoundError",
     "evalue": "[Errno 2] No such file or directory: '@=1000000   #Hay un caractér ilegal'",
     "output_type": "error",
     "traceback": [
      "\u001b[0;31m---------------------------------------------------------------------------\u001b[0m",
      "\u001b[0;31mFileNotFoundError\u001b[0m                         Traceback (most recent call last)",
      "\u001b[0;32m<ipython-input-5-4628e69edc2e>\u001b[0m in \u001b[0;36m<module>\u001b[0;34m()\u001b[0m\n\u001b[0;32m----> 1\u001b[0;31m \u001b[0mget_ipython\u001b[0m\u001b[0;34m(\u001b[0m\u001b[0;34m)\u001b[0m\u001b[0;34m.\u001b[0m\u001b[0mrun_line_magic\u001b[0m\u001b[0;34m(\u001b[0m\u001b[0;34m'more'\u001b[0m\u001b[0;34m,\u001b[0m \u001b[0;34m'@=1000000   #Hay un caractér ilegal'\u001b[0m\u001b[0;34m)\u001b[0m\u001b[0;34m\u001b[0m\u001b[0;34m\u001b[0m\u001b[0m\n\u001b[0m",
      "\u001b[0;32m~/anaconda3/lib/python3.7/site-packages/IPython/core/interactiveshell.py\u001b[0m in \u001b[0;36mrun_line_magic\u001b[0;34m(self, magic_name, line, _stack_depth)\u001b[0m\n\u001b[1;32m   2129\u001b[0m                 \u001b[0mkwargs\u001b[0m\u001b[0;34m[\u001b[0m\u001b[0;34m'local_ns'\u001b[0m\u001b[0;34m]\u001b[0m \u001b[0;34m=\u001b[0m \u001b[0msys\u001b[0m\u001b[0;34m.\u001b[0m\u001b[0m_getframe\u001b[0m\u001b[0;34m(\u001b[0m\u001b[0mstack_depth\u001b[0m\u001b[0;34m)\u001b[0m\u001b[0;34m.\u001b[0m\u001b[0mf_locals\u001b[0m\u001b[0;34m\u001b[0m\u001b[0;34m\u001b[0m\u001b[0m\n\u001b[1;32m   2130\u001b[0m             \u001b[0;32mwith\u001b[0m \u001b[0mself\u001b[0m\u001b[0;34m.\u001b[0m\u001b[0mbuiltin_trap\u001b[0m\u001b[0;34m:\u001b[0m\u001b[0;34m\u001b[0m\u001b[0;34m\u001b[0m\u001b[0m\n\u001b[0;32m-> 2131\u001b[0;31m                 \u001b[0mresult\u001b[0m \u001b[0;34m=\u001b[0m \u001b[0mfn\u001b[0m\u001b[0;34m(\u001b[0m\u001b[0;34m*\u001b[0m\u001b[0margs\u001b[0m\u001b[0;34m,\u001b[0m\u001b[0;34m**\u001b[0m\u001b[0mkwargs\u001b[0m\u001b[0;34m)\u001b[0m\u001b[0;34m\u001b[0m\u001b[0;34m\u001b[0m\u001b[0m\n\u001b[0m\u001b[1;32m   2132\u001b[0m             \u001b[0;32mreturn\u001b[0m \u001b[0mresult\u001b[0m\u001b[0;34m\u001b[0m\u001b[0;34m\u001b[0m\u001b[0m\n\u001b[1;32m   2133\u001b[0m \u001b[0;34m\u001b[0m\u001b[0m\n",
      "\u001b[0;32m</Users/sergiocalderonv/anaconda3/lib/python3.7/site-packages/decorator.py:decorator-gen-117>\u001b[0m in \u001b[0;36mless\u001b[0;34m(self, arg_s)\u001b[0m\n",
      "\u001b[0;32m~/anaconda3/lib/python3.7/site-packages/IPython/core/magic.py\u001b[0m in \u001b[0;36m<lambda>\u001b[0;34m(f, *a, **k)\u001b[0m\n\u001b[1;32m    185\u001b[0m     \u001b[0;31m# but it's overkill for just that one bit of state.\u001b[0m\u001b[0;34m\u001b[0m\u001b[0;34m\u001b[0m\u001b[0;34m\u001b[0m\u001b[0m\n\u001b[1;32m    186\u001b[0m     \u001b[0;32mdef\u001b[0m \u001b[0mmagic_deco\u001b[0m\u001b[0;34m(\u001b[0m\u001b[0marg\u001b[0m\u001b[0;34m)\u001b[0m\u001b[0;34m:\u001b[0m\u001b[0;34m\u001b[0m\u001b[0;34m\u001b[0m\u001b[0m\n\u001b[0;32m--> 187\u001b[0;31m         \u001b[0mcall\u001b[0m \u001b[0;34m=\u001b[0m \u001b[0;32mlambda\u001b[0m \u001b[0mf\u001b[0m\u001b[0;34m,\u001b[0m \u001b[0;34m*\u001b[0m\u001b[0ma\u001b[0m\u001b[0;34m,\u001b[0m \u001b[0;34m**\u001b[0m\u001b[0mk\u001b[0m\u001b[0;34m:\u001b[0m \u001b[0mf\u001b[0m\u001b[0;34m(\u001b[0m\u001b[0;34m*\u001b[0m\u001b[0ma\u001b[0m\u001b[0;34m,\u001b[0m \u001b[0;34m**\u001b[0m\u001b[0mk\u001b[0m\u001b[0;34m)\u001b[0m\u001b[0;34m\u001b[0m\u001b[0;34m\u001b[0m\u001b[0m\n\u001b[0m\u001b[1;32m    188\u001b[0m \u001b[0;34m\u001b[0m\u001b[0m\n\u001b[1;32m    189\u001b[0m         \u001b[0;32mif\u001b[0m \u001b[0mcallable\u001b[0m\u001b[0;34m(\u001b[0m\u001b[0marg\u001b[0m\u001b[0;34m)\u001b[0m\u001b[0;34m:\u001b[0m\u001b[0;34m\u001b[0m\u001b[0;34m\u001b[0m\u001b[0m\n",
      "\u001b[0;32m~/anaconda3/lib/python3.7/site-packages/ipykernel/zmqshell.py\u001b[0m in \u001b[0;36mless\u001b[0;34m(self, arg_s)\u001b[0m\n\u001b[1;32m    340\u001b[0m             \u001b[0mcont\u001b[0m \u001b[0;34m=\u001b[0m \u001b[0mself\u001b[0m\u001b[0;34m.\u001b[0m\u001b[0mshell\u001b[0m\u001b[0;34m.\u001b[0m\u001b[0mpycolorize\u001b[0m\u001b[0;34m(\u001b[0m\u001b[0mopenpy\u001b[0m\u001b[0;34m.\u001b[0m\u001b[0mread_py_file\u001b[0m\u001b[0;34m(\u001b[0m\u001b[0marg_s\u001b[0m\u001b[0;34m,\u001b[0m \u001b[0mskip_encoding_cookie\u001b[0m\u001b[0;34m=\u001b[0m\u001b[0;32mFalse\u001b[0m\u001b[0;34m)\u001b[0m\u001b[0;34m)\u001b[0m\u001b[0;34m\u001b[0m\u001b[0;34m\u001b[0m\u001b[0m\n\u001b[1;32m    341\u001b[0m         \u001b[0;32melse\u001b[0m\u001b[0;34m:\u001b[0m\u001b[0;34m\u001b[0m\u001b[0;34m\u001b[0m\u001b[0m\n\u001b[0;32m--> 342\u001b[0;31m             \u001b[0mcont\u001b[0m \u001b[0;34m=\u001b[0m \u001b[0mopen\u001b[0m\u001b[0;34m(\u001b[0m\u001b[0marg_s\u001b[0m\u001b[0;34m)\u001b[0m\u001b[0;34m.\u001b[0m\u001b[0mread\u001b[0m\u001b[0;34m(\u001b[0m\u001b[0;34m)\u001b[0m\u001b[0;34m\u001b[0m\u001b[0;34m\u001b[0m\u001b[0m\n\u001b[0m\u001b[1;32m    343\u001b[0m         \u001b[0mpage\u001b[0m\u001b[0;34m.\u001b[0m\u001b[0mpage\u001b[0m\u001b[0;34m(\u001b[0m\u001b[0mcont\u001b[0m\u001b[0;34m)\u001b[0m\u001b[0;34m\u001b[0m\u001b[0;34m\u001b[0m\u001b[0m\n\u001b[1;32m    344\u001b[0m \u001b[0;34m\u001b[0m\u001b[0m\n",
      "\u001b[0;31mFileNotFoundError\u001b[0m: [Errno 2] No such file or directory: '@=1000000   #Hay un caractér ilegal'"
     ]
    }
   ],
   "source": [
    "more@=1000000   #Hay un caractér ilegal"
   ]
  },
  {
   "cell_type": "code",
   "execution_count": 56,
   "metadata": {},
   "outputs": [
    {
     "ename": "SyntaxError",
     "evalue": "invalid syntax (<ipython-input-56-15937b7c4b19>, line 1)",
     "output_type": "error",
     "traceback": [
      "\u001b[0;36m  File \u001b[0;32m\"<ipython-input-56-15937b7c4b19>\"\u001b[0;36m, line \u001b[0;32m1\u001b[0m\n\u001b[0;31m    class='Advanced Theoretical'\u001b[0m\n\u001b[0m         ^\u001b[0m\n\u001b[0;31mSyntaxError\u001b[0m\u001b[0;31m:\u001b[0m invalid syntax\n"
     ]
    }
   ],
   "source": [
    "class='Advanced Theoretical'  #Es una palabra clave o reservada de python"
   ]
  },
  {
   "cell_type": "markdown",
   "metadata": {},
   "source": [
    "# Expresiones y Declaraciones"
   ]
  },
  {
   "cell_type": "code",
   "execution_count": null,
   "metadata": {},
   "outputs": [],
   "source": [
    "#Una expresión es una combinación. de vañores, variables y operadores"
   ]
  },
  {
   "cell_type": "code",
   "execution_count": 57,
   "metadata": {},
   "outputs": [
    {
     "data": {
      "text/plain": [
       "42"
      ]
     },
     "execution_count": 57,
     "metadata": {},
     "output_type": "execute_result"
    },
    {
     "data": {
      "text/plain": [
       "17"
      ]
     },
     "execution_count": 57,
     "metadata": {},
     "output_type": "execute_result"
    },
    {
     "data": {
      "text/plain": [
       "42"
      ]
     },
     "execution_count": 57,
     "metadata": {},
     "output_type": "execute_result"
    }
   ],
   "source": [
    "42\n",
    "n\n",
    "n+25"
   ]
  },
  {
   "cell_type": "code",
   "execution_count": null,
   "metadata": {},
   "outputs": [],
   "source": [
    "#Una declaración es una unidad de código que tiene un efecto, como crear una variable o mostrar un valor"
   ]
  },
  {
   "cell_type": "code",
   "execution_count": 6,
   "metadata": {},
   "outputs": [
    {
     "name": "stdout",
     "output_type": "stream",
     "text": [
      "17\n"
     ]
    },
    {
     "data": {
      "text/plain": [
       "17"
      ]
     },
     "execution_count": 6,
     "metadata": {},
     "output_type": "execute_result"
    }
   ],
   "source": [
    "n=17\n",
    "print(n)\n",
    "n"
   ]
  },
  {
   "cell_type": "markdown",
   "metadata": {},
   "source": [
    "# Operaciones con Cadenas "
   ]
  },
  {
   "cell_type": "code",
   "execution_count": 61,
   "metadata": {},
   "outputs": [],
   "source": [
    "# Existen dos operaciones cadenas concatenación(+) y repetición(9)"
   ]
  },
  {
   "cell_type": "code",
   "execution_count": 7,
   "metadata": {},
   "outputs": [
    {
     "data": {
      "text/plain": [
       "'throatwarbler'"
      ]
     },
     "execution_count": 7,
     "metadata": {},
     "output_type": "execute_result"
    },
    {
     "data": {
      "text/plain": [
       "'throatthroatthroat'"
      ]
     },
     "execution_count": 7,
     "metadata": {},
     "output_type": "execute_result"
    }
   ],
   "source": [
    "first='throat' ####Esta es una cadena, la cual es una sucesión de caracteres\n",
    "second='warbler'\n",
    "first+second\n",
    "3*first"
   ]
  },
  {
   "cell_type": "code",
   "execution_count": 10,
   "metadata": {},
   "outputs": [
    {
     "name": "stdout",
     "output_type": "stream",
     "text": [
      "t\n"
     ]
    },
    {
     "data": {
      "text/plain": [
       "'t'"
      ]
     },
     "execution_count": 10,
     "metadata": {},
     "output_type": "execute_result"
    },
    {
     "data": {
      "text/plain": [
       "6"
      ]
     },
     "execution_count": 10,
     "metadata": {},
     "output_type": "execute_result"
    },
    {
     "data": {
      "text/plain": [
       "7"
      ]
     },
     "execution_count": 10,
     "metadata": {},
     "output_type": "execute_result"
    },
    {
     "data": {
      "text/plain": [
       "'t'"
      ]
     },
     "execution_count": 10,
     "metadata": {},
     "output_type": "execute_result"
    }
   ],
   "source": [
    "letra=first[0]\n",
    "print(letra)\n",
    "first[5]\n",
    "#first[6]\n",
    "len(first)\n",
    "len(second)\n",
    "long=len(first)\n",
    "first[long-1]"
   ]
  },
  {
   "cell_type": "code",
   "execution_count": 148,
   "metadata": {},
   "outputs": [
    {
     "data": {
      "text/plain": [
       "'t'"
      ]
     },
     "execution_count": 148,
     "metadata": {},
     "output_type": "execute_result"
    },
    {
     "data": {
      "text/plain": [
       "'a'"
      ]
     },
     "execution_count": 148,
     "metadata": {},
     "output_type": "execute_result"
    }
   ],
   "source": [
    "first[-1]  ###la última posición\n",
    "first[-2]  ###La penúltima posición"
   ]
  },
  {
   "cell_type": "markdown",
   "metadata": {},
   "source": [
    "# Pedazos de Cadenas"
   ]
  },
  {
   "cell_type": "code",
   "execution_count": 12,
   "metadata": {},
   "outputs": [
    {
     "data": {
      "text/plain": [
       "'Monty'"
      ]
     },
     "execution_count": 12,
     "metadata": {},
     "output_type": "execute_result"
    },
    {
     "data": {
      "text/plain": [
       "'Python'"
      ]
     },
     "execution_count": 12,
     "metadata": {},
     "output_type": "execute_result"
    },
    {
     "data": {
      "text/plain": [
       "'Monty'"
      ]
     },
     "execution_count": 12,
     "metadata": {},
     "output_type": "execute_result"
    },
    {
     "data": {
      "text/plain": [
       "'Python'"
      ]
     },
     "execution_count": 12,
     "metadata": {},
     "output_type": "execute_result"
    },
    {
     "ename": "TypeError",
     "evalue": "'str' object does not support item assignment",
     "output_type": "error",
     "traceback": [
      "\u001b[0;31m---------------------------------------------------------------------------\u001b[0m",
      "\u001b[0;31mTypeError\u001b[0m                                 Traceback (most recent call last)",
      "\u001b[0;32m<ipython-input-12-4b3d58baa3e2>\u001b[0m in \u001b[0;36m<module>\u001b[0;34m()\u001b[0m\n\u001b[1;32m      6\u001b[0m \u001b[0mP\u001b[0m\u001b[0;34m=\u001b[0m\u001b[0;34m'f'\u001b[0m\u001b[0;34m\u001b[0m\u001b[0;34m\u001b[0m\u001b[0m\n\u001b[1;32m      7\u001b[0m \u001b[0;31m####Las cadenas son imutables, es decir, no se puede cambiar el valor asignado en alguna posición.\u001b[0m\u001b[0;34m\u001b[0m\u001b[0;34m\u001b[0m\u001b[0;34m\u001b[0m\u001b[0m\n\u001b[0;32m----> 8\u001b[0;31m \u001b[0ms\u001b[0m\u001b[0;34m[\u001b[0m\u001b[0;36m0\u001b[0m\u001b[0;34m]\u001b[0m\u001b[0;34m=\u001b[0m\u001b[0mP\u001b[0m\u001b[0;34m\u001b[0m\u001b[0;34m\u001b[0m\u001b[0m\n\u001b[0m",
      "\u001b[0;31mTypeError\u001b[0m: 'str' object does not support item assignment"
     ]
    }
   ],
   "source": [
    "s='Monty Python'\n",
    "s[0:5]\n",
    "s[6:12]\n",
    "s[:5]\n",
    "s[6:]\n",
    "P='f'\n",
    "####Las cadenas son imutables, es decir, no se puede cambiar el valor asignado en alguna posición.\n",
    "s[0]=P"
   ]
  },
  {
   "cell_type": "code",
   "execution_count": 13,
   "metadata": {},
   "outputs": [
    {
     "data": {
      "text/plain": [
       "'Ponty Python'"
      ]
     },
     "execution_count": 13,
     "metadata": {},
     "output_type": "execute_result"
    }
   ],
   "source": [
    "###El cambio se debe hacer creando un nuveo objeto\n",
    "snew='P'+s[1:]\n",
    "snew"
   ]
  },
  {
   "cell_type": "markdown",
   "metadata": {},
   "source": [
    "# Errores en un programa"
   ]
  },
  {
   "cell_type": "code",
   "execution_count": 63,
   "metadata": {},
   "outputs": [
    {
     "ename": "SyntaxError",
     "evalue": "invalid syntax (<ipython-input-63-64653efe04dd>, line 2)",
     "output_type": "error",
     "traceback": [
      "\u001b[0;36m  File \u001b[0;32m\"<ipython-input-63-64653efe04dd>\"\u001b[0;36m, line \u001b[0;32m2\u001b[0m\n\u001b[0;31m    8)\u001b[0m\n\u001b[0m     ^\u001b[0m\n\u001b[0;31mSyntaxError\u001b[0m\u001b[0;31m:\u001b[0m invalid syntax\n"
     ]
    }
   ],
   "source": [
    "# Sintaxis \"Syntax\": se refiere a la estructura del programa y las reglas acerca de estructura\n",
    "8)"
   ]
  },
  {
   "cell_type": "code",
   "execution_count": null,
   "metadata": {},
   "outputs": [],
   "source": [
    "# Tiempo de ejecución \"Runtime\": Aparecen cuando el programa se ha empezado a ejecutar,\n",
    "#son llamados también excepciones e indican que algo malo ha pasado."
   ]
  },
  {
   "cell_type": "code",
   "execution_count": null,
   "metadata": {},
   "outputs": [],
   "source": [
    "# Error de semántica : Están relacionado al significado y por lo general no produce errores."
   ]
  },
  {
   "cell_type": "markdown",
   "metadata": {},
   "source": [
    "# Funciones"
   ]
  },
  {
   "cell_type": "code",
   "execution_count": 15,
   "metadata": {},
   "outputs": [
    {
     "data": {
      "text/plain": [
       "int"
      ]
     },
     "execution_count": 15,
     "metadata": {},
     "output_type": "execute_result"
    },
    {
     "data": {
      "text/plain": [
       "32"
      ]
     },
     "execution_count": 15,
     "metadata": {},
     "output_type": "execute_result"
    },
    {
     "data": {
      "text/plain": [
       "4"
      ]
     },
     "execution_count": 15,
     "metadata": {},
     "output_type": "execute_result"
    }
   ],
   "source": [
    "# Una función es una sucesión de declaraciones que realiza un cómputo.\n",
    "type(42)\n",
    "###Toma un argumento \"42\" y retorna un resultado\n",
    "int('32')\n",
    "int(4.5)"
   ]
  },
  {
   "cell_type": "code",
   "execution_count": 16,
   "metadata": {},
   "outputs": [
    {
     "data": {
      "text/plain": [
       "0"
      ]
     },
     "execution_count": 16,
     "metadata": {},
     "output_type": "execute_result"
    }
   ],
   "source": [
    "int()    # se puede pedir ayuda de una función en jupyter usando shift y tab dentro del paréntesis de la función\n",
    "int?\n",
    "# o con signo de interrogación después de escribir la función "
   ]
  },
  {
   "cell_type": "code",
   "execution_count": 71,
   "metadata": {},
   "outputs": [
    {
     "data": {
      "text/plain": [
       "3"
      ]
     },
     "execution_count": 71,
     "metadata": {},
     "output_type": "execute_result"
    },
    {
     "data": {
      "text/plain": [
       "-2"
      ]
     },
     "execution_count": 71,
     "metadata": {},
     "output_type": "execute_result"
    }
   ],
   "source": [
    "int(3.999)\n",
    "int(-2.3)"
   ]
  },
  {
   "cell_type": "code",
   "execution_count": 73,
   "metadata": {},
   "outputs": [
    {
     "data": {
      "text/plain": [
       "32.0"
      ]
     },
     "execution_count": 73,
     "metadata": {},
     "output_type": "execute_result"
    },
    {
     "data": {
      "text/plain": [
       "3.14159"
      ]
     },
     "execution_count": 73,
     "metadata": {},
     "output_type": "execute_result"
    }
   ],
   "source": [
    "float(32)\n",
    "float('3.14159')"
   ]
  },
  {
   "cell_type": "code",
   "execution_count": 17,
   "metadata": {},
   "outputs": [
    {
     "data": {
      "text/plain": [
       "'32'"
      ]
     },
     "execution_count": 17,
     "metadata": {},
     "output_type": "execute_result"
    },
    {
     "data": {
      "text/plain": [
       "'3.14159'"
      ]
     },
     "execution_count": 17,
     "metadata": {},
     "output_type": "execute_result"
    }
   ],
   "source": [
    "str(32)\n",
    "str(3.14159)"
   ]
  },
  {
   "cell_type": "markdown",
   "metadata": {},
   "source": [
    "# Funciones Matemáticas"
   ]
  },
  {
   "cell_type": "markdown",
   "metadata": {},
   "source": [
    "Para usar las funciones matemáticas es necesario llamar o crear el módulo **_math_**. Un módulo es un archivo que contiene una colección de funciones relacionadas. Se debe importar el módulo usando **import math**."
   ]
  },
  {
   "cell_type": "code",
   "execution_count": 3,
   "metadata": {},
   "outputs": [
    {
     "data": {
      "text/plain": [
       "<module 'math' from '/Users/sergiocalderonv/anaconda3/lib/python3.7/lib-dynload/math.cpython-37m-darwin.so'>"
      ]
     },
     "execution_count": 3,
     "metadata": {},
     "output_type": "execute_result"
    }
   ],
   "source": [
    "import math\n",
    "math"
   ]
  },
  {
   "cell_type": "markdown",
   "metadata": {},
   "source": [
    "Se puede llamar una función usando la notación punto (.). Veamos por ejemplo como usar la función logaritmo $\\log$."
   ]
  },
  {
   "cell_type": "code",
   "execution_count": 21,
   "metadata": {},
   "outputs": [
    {
     "name": "stdout",
     "output_type": "stream",
     "text": [
      "-4.771212547196624\n",
      "0.644217687237691\n"
     ]
    },
    {
     "data": {
      "text/plain": [
       "0.7071067811865475"
      ]
     },
     "execution_count": 21,
     "metadata": {},
     "output_type": "execute_result"
    }
   ],
   "source": [
    "signal_power=10\n",
    "noise_power=30\n",
    "ratio=signal_power/noise_power\n",
    "decibels=10*math.log10(ratio)\n",
    "print(decibels)\n",
    "\n",
    "radians=0.7\n",
    "height=math.sin(radians)\n",
    "print(height)\n",
    "\n",
    "degrees=45\n",
    "radians=degrees/180.0*math.pi\n",
    "math.sin(radians)\n"
   ]
  },
  {
   "cell_type": "markdown",
   "metadata": {},
   "source": [
    "# Definición de nuevas funciones"
   ]
  },
  {
   "cell_type": "markdown",
   "metadata": {},
   "source": [
    "Se puede definir nuevas funciones a través de la función **def**."
   ]
  },
  {
   "cell_type": "code",
   "execution_count": 4,
   "metadata": {},
   "outputs": [],
   "source": [
    "def cat_twice(part1,part2):\n",
    "    cat =part1 + part2\n",
    "    print(cat)\n"
   ]
  },
  {
   "cell_type": "code",
   "execution_count": 6,
   "metadata": {},
   "outputs": [
    {
     "name": "stdout",
     "output_type": "stream",
     "text": [
      "buenosdías\n"
     ]
    },
    {
     "ename": "NameError",
     "evalue": "name 'cat' is not defined",
     "output_type": "error",
     "traceback": [
      "\u001b[0;31m---------------------------------------------------------------------------\u001b[0m",
      "\u001b[0;31mNameError\u001b[0m                                 Traceback (most recent call last)",
      "\u001b[0;32m<ipython-input-6-0a171697e7bf>\u001b[0m in \u001b[0;36m<module>\u001b[0;34m()\u001b[0m\n\u001b[1;32m      1\u001b[0m \u001b[0mcat_twice\u001b[0m\u001b[0;34m(\u001b[0m\u001b[0;34m'buenos'\u001b[0m\u001b[0;34m,\u001b[0m\u001b[0;34m'días'\u001b[0m\u001b[0;34m)\u001b[0m\u001b[0;34m\u001b[0m\u001b[0;34m\u001b[0m\u001b[0m\n\u001b[0;32m----> 2\u001b[0;31m \u001b[0mprint\u001b[0m\u001b[0;34m(\u001b[0m\u001b[0mcat\u001b[0m\u001b[0;34m)\u001b[0m  \u001b[0;31m#Note que las definiciones son locales.\u001b[0m\u001b[0;34m\u001b[0m\u001b[0;34m\u001b[0m\u001b[0m\n\u001b[0m",
      "\u001b[0;31mNameError\u001b[0m: name 'cat' is not defined"
     ]
    }
   ],
   "source": [
    "cat_twice('buenos','días')\n",
    "print(cat)  #Note que las definiciones son locales."
   ]
  },
  {
   "cell_type": "code",
   "execution_count": 11,
   "metadata": {},
   "outputs": [],
   "source": [
    "def hipotenusa2(catad,catop):\n",
    "    hipote2=catad**2+catop**2\n",
    "    print(hipote2)"
   ]
  },
  {
   "cell_type": "code",
   "execution_count": 8,
   "metadata": {},
   "outputs": [
    {
     "name": "stdout",
     "output_type": "stream",
     "text": [
      "13\n"
     ]
    }
   ],
   "source": [
    "hipotenusa2(2,3)"
   ]
  },
  {
   "cell_type": "code",
   "execution_count": 13,
   "metadata": {},
   "outputs": [],
   "source": [
    "def hipotenusa2(catad,catop):\n",
    "    hipote2=catad**2+catop**2\n",
    "    return hipote2\n",
    "#Note que la diferencia entre las dos es que la última nos proporcionas un vslor de salida, mientras que la primera\n",
    "#su resultado es un None"
   ]
  },
  {
   "cell_type": "code",
   "execution_count": 12,
   "metadata": {},
   "outputs": [
    {
     "name": "stdout",
     "output_type": "stream",
     "text": [
      "13\n"
     ]
    },
    {
     "ename": "TypeError",
     "evalue": "unsupported operand type(s) for +: 'NoneType' and 'int'",
     "output_type": "error",
     "traceback": [
      "\u001b[0;31m---------------------------------------------------------------------------\u001b[0m",
      "\u001b[0;31mTypeError\u001b[0m                                 Traceback (most recent call last)",
      "\u001b[0;32m<ipython-input-12-5821acb2f8cd>\u001b[0m in \u001b[0;36m<module>\u001b[0;34m()\u001b[0m\n\u001b[0;32m----> 1\u001b[0;31m \u001b[0mhipotenusa2\u001b[0m\u001b[0;34m(\u001b[0m\u001b[0;36m2\u001b[0m\u001b[0;34m,\u001b[0m\u001b[0;36m3\u001b[0m\u001b[0;34m)\u001b[0m\u001b[0;34m+\u001b[0m\u001b[0;36m1\u001b[0m\u001b[0;34m\u001b[0m\u001b[0;34m\u001b[0m\u001b[0m\n\u001b[0m",
      "\u001b[0;31mTypeError\u001b[0m: unsupported operand type(s) for +: 'NoneType' and 'int'"
     ]
    }
   ],
   "source": [
    "hipotenusa2(2,3)+1\n"
   ]
  },
  {
   "cell_type": "markdown",
   "metadata": {},
   "source": [
    "# Condicionales y recurrencias"
   ]
  },
  {
   "cell_type": "markdown",
   "metadata": {},
   "source": [
    "Veremos la sentencia o declaración **if**."
   ]
  },
  {
   "cell_type": "code",
   "execution_count": 14,
   "metadata": {},
   "outputs": [
    {
     "data": {
      "text/plain": [
       "1.75"
      ]
     },
     "execution_count": 14,
     "metadata": {},
     "output_type": "execute_result"
    },
    {
     "data": {
      "text/plain": [
       "1"
      ]
     },
     "execution_count": 14,
     "metadata": {},
     "output_type": "execute_result"
    },
    {
     "data": {
      "text/plain": [
       "45"
      ]
     },
     "execution_count": 14,
     "metadata": {},
     "output_type": "execute_result"
    }
   ],
   "source": [
    "minutes=105\n",
    "minutes/60    ###División float\n",
    "\n",
    "horas=minutes//60  ###División entera\n",
    "horas\n",
    "\n",
    "remainder=minutes%60   ###arroja el reisduo de la división o el módulo.\n",
    "remainder"
   ]
  },
  {
   "cell_type": "markdown",
   "metadata": {},
   "source": [
    "# Expresiones Booleanas"
   ]
  },
  {
   "cell_type": "markdown",
   "metadata": {},
   "source": [
    "Una expresión Booleana es una expresión que es o verdadera o falsa. El operador **==** compara dos operandos y produce **True** si son iguales y **False** en otro caso."
   ]
  },
  {
   "cell_type": "code",
   "execution_count": 15,
   "metadata": {},
   "outputs": [
    {
     "data": {
      "text/plain": [
       "True"
      ]
     },
     "execution_count": 15,
     "metadata": {},
     "output_type": "execute_result"
    },
    {
     "data": {
      "text/plain": [
       "False"
      ]
     },
     "execution_count": 15,
     "metadata": {},
     "output_type": "execute_result"
    }
   ],
   "source": [
    "5==5\n",
    "5==6"
   ]
  },
  {
   "cell_type": "code",
   "execution_count": 90,
   "metadata": {},
   "outputs": [
    {
     "data": {
      "text/plain": [
       "bool"
      ]
     },
     "execution_count": 90,
     "metadata": {},
     "output_type": "execute_result"
    },
    {
     "data": {
      "text/plain": [
       "bool"
      ]
     },
     "execution_count": 90,
     "metadata": {},
     "output_type": "execute_result"
    }
   ],
   "source": [
    "type(True)\n",
    "type(False)"
   ]
  },
  {
   "cell_type": "markdown",
   "metadata": {},
   "source": [
    "Existen mas operadores relacionales:<br>\n",
    "x!=y, x no es igual y , es decir, prueba si $x\\neq y$.<br>\n",
    "x>y, x es mayor que y , es decir, prueba si $x> y$.<br>\n",
    "x<y, x es menor que y , es decir, prueba si $x< y$.<br>\n",
    "x>=y, x es mayor o igual que y , es decir, prueba si $x\\geq y$.<br>\n",
    "x<=y, x es menor o igual que y , es decir, prueba si $x\\leq y$.<br>"
   ]
  },
  {
   "cell_type": "code",
   "execution_count": 17,
   "metadata": {},
   "outputs": [
    {
     "name": "stdout",
     "output_type": "stream",
     "text": [
      "3\n"
     ]
    },
    {
     "data": {
      "text/plain": [
       "False"
      ]
     },
     "execution_count": 17,
     "metadata": {},
     "output_type": "execute_result"
    },
    {
     "data": {
      "text/plain": [
       "True"
      ]
     },
     "execution_count": 17,
     "metadata": {},
     "output_type": "execute_result"
    },
    {
     "data": {
      "text/plain": [
       "True"
      ]
     },
     "execution_count": 17,
     "metadata": {},
     "output_type": "execute_result"
    }
   ],
   "source": [
    "print(x)\n",
    "x=3\n",
    "y=5\n",
    "x>5\n",
    "x<=5\n",
    "x!=5"
   ]
  },
  {
   "cell_type": "markdown",
   "metadata": {},
   "source": [
    "# Operadores Lógicos"
   ]
  },
  {
   "cell_type": "markdown",
   "metadata": {},
   "source": [
    "Hay tres operadores Lógicos **and**, **or** y **not**."
   ]
  },
  {
   "cell_type": "code",
   "execution_count": 21,
   "metadata": {},
   "outputs": [
    {
     "data": {
      "text/plain": [
       "True"
      ]
     },
     "execution_count": 21,
     "metadata": {},
     "output_type": "execute_result"
    },
    {
     "data": {
      "text/plain": [
       "True"
      ]
     },
     "execution_count": 21,
     "metadata": {},
     "output_type": "execute_result"
    },
    {
     "data": {
      "text/plain": [
       "True"
      ]
     },
     "execution_count": 21,
     "metadata": {},
     "output_type": "execute_result"
    }
   ],
   "source": [
    "x=5\n",
    "y=10\n",
    "x>0 and x<10\n",
    "x>0 or x<10\n",
    "not(x>y)"
   ]
  },
  {
   "cell_type": "markdown",
   "metadata": {},
   "source": [
    "# Ejecución Condicional"
   ]
  },
  {
   "cell_type": "markdown",
   "metadata": {},
   "source": [
    "Siempre es importante tener la posibilidad de comprobar condiciones y cambiar el comportamiento del programa. Declaraciones condicionales nos dan esa capacidad. La forma más fácil es la declaracíon **if**:"
   ]
  },
  {
   "cell_type": "code",
   "execution_count": 22,
   "metadata": {},
   "outputs": [
    {
     "name": "stdout",
     "output_type": "stream",
     "text": [
      "x es positivo\n"
     ]
    }
   ],
   "source": [
    "x=10\n",
    "if x>0:\n",
    "    print('x es positivo')\n"
   ]
  },
  {
   "cell_type": "code",
   "execution_count": 100,
   "metadata": {},
   "outputs": [],
   "source": [
    "if x<0:\n",
    "    pass   ###Corre pero se deja para escribir después el condicional."
   ]
  },
  {
   "cell_type": "markdown",
   "metadata": {},
   "source": [
    "## Ejecución alternativa "
   ]
  },
  {
   "cell_type": "code",
   "execution_count": null,
   "metadata": {},
   "outputs": [],
   "source": [
    "Se puede dar una alternativa ejecición si la condición no es cierta."
   ]
  },
  {
   "cell_type": "code",
   "execution_count": 24,
   "metadata": {},
   "outputs": [
    {
     "name": "stdout",
     "output_type": "stream",
     "text": [
      "x es par\n"
     ]
    }
   ],
   "source": [
    "x=4\n",
    "if x%2==0:\n",
    "    print('x es par')\n",
    "else:\n",
    "    print('x es impar')\n",
    "    "
   ]
  },
  {
   "cell_type": "markdown",
   "metadata": {},
   "source": [
    "# Condicionales Encadenados"
   ]
  },
  {
   "cell_type": "markdown",
   "metadata": {},
   "source": [
    "Algunas veces hay mas de dos posibildades y es necesario mas de dos ramas. Una forma para expresar computos como condicionales encadenadas. "
   ]
  },
  {
   "cell_type": "code",
   "execution_count": 25,
   "metadata": {},
   "outputs": [
    {
     "name": "stdout",
     "output_type": "stream",
     "text": [
      "x es menor que y\n"
     ]
    }
   ],
   "source": [
    "if x<y:\n",
    "    print('x es menor que y')\n",
    "elif x>y:\n",
    "    print('x es mayor que y')\n",
    "else:\n",
    "    print('x es igual a y')"
   ]
  },
  {
   "cell_type": "markdown",
   "metadata": {},
   "source": [
    "Un condicional puede ser anidado dentro de otro:"
   ]
  },
  {
   "cell_type": "code",
   "execution_count": 104,
   "metadata": {},
   "outputs": [
    {
     "name": "stdout",
     "output_type": "stream",
     "text": [
      "x es menor que y\n"
     ]
    }
   ],
   "source": [
    "if x==y:\n",
    "    print('x y y son iguales')\n",
    "else:\n",
    "    if x<y:\n",
    "        print('x es menor que y')\n",
    "    else:\n",
    "        print('x es mas grande que y')"
   ]
  },
  {
   "cell_type": "code",
   "execution_count": 105,
   "metadata": {},
   "outputs": [
    {
     "name": "stdout",
     "output_type": "stream",
     "text": [
      "x es un número positivo de un solo dígito\n"
     ]
    }
   ],
   "source": [
    "if 0<x and x<10:\n",
    "    print('x es un número positivo de un solo dígito')"
   ]
  },
  {
   "cell_type": "code",
   "execution_count": 106,
   "metadata": {},
   "outputs": [
    {
     "name": "stdout",
     "output_type": "stream",
     "text": [
      "x es un número positivo de un solo dígito\n"
     ]
    }
   ],
   "source": [
    "if 0<x<10:\n",
    "    print('x es un número positivo de un solo dígito') "
   ]
  },
  {
   "cell_type": "markdown",
   "metadata": {},
   "source": [
    "# Recurrencias"
   ]
  },
  {
   "cell_type": "code",
   "execution_count": 26,
   "metadata": {},
   "outputs": [
    {
     "name": "stdout",
     "output_type": "stream",
     "text": [
      "5\n",
      "4\n",
      "3\n",
      "2\n",
      "1\n",
      "Despegue\n"
     ]
    }
   ],
   "source": [
    "def countdown(n):\n",
    "    if n<=0:\n",
    "        print('Despegue')\n",
    "    else:\n",
    "        print(n)\n",
    "        countdown(n-1)\n",
    "####Se puede usar la declaración return para terminar ahí la ejecución.      \n",
    "countdown(5)"
   ]
  },
  {
   "cell_type": "markdown",
   "metadata": {},
   "source": [
    "# Chequeando tipos de valores"
   ]
  },
  {
   "cell_type": "code",
   "execution_count": 27,
   "metadata": {},
   "outputs": [
    {
     "data": {
      "text/plain": [
       "6"
      ]
     },
     "execution_count": 27,
     "metadata": {},
     "output_type": "execute_result"
    },
    {
     "name": "stdout",
     "output_type": "stream",
     "text": [
      "Factorial es solo definido para enteros\n",
      "Factorial no es definido para enteros negativos\n"
     ]
    }
   ],
   "source": [
    "def factorial(n):\n",
    "    if not isinstance(n,int):\n",
    "        print('Factorial es solo definido para enteros')\n",
    "        return None\n",
    "    elif n<0:\n",
    "        print('Factorial no es definido para enteros negativos')\n",
    "        return None\n",
    "    elif n==0:\n",
    "        return 1\n",
    "    else:\n",
    "        return n*factorial(n-1)\n",
    "###Se usa isinstance para probar el tipo de valor que es n.\n",
    "factorial(3)\n",
    "factorial(5.4)\n",
    "factorial(-3)"
   ]
  },
  {
   "cell_type": "markdown",
   "metadata": {},
   "source": [
    "# Iteraciones"
   ]
  },
  {
   "cell_type": "markdown",
   "metadata": {},
   "source": [
    "## La sentencia while"
   ]
  },
  {
   "cell_type": "code",
   "execution_count": 118,
   "metadata": {},
   "outputs": [
    {
     "name": "stdout",
     "output_type": "stream",
     "text": [
      "5\n",
      "4\n",
      "3\n",
      "2\n",
      "1\n",
      "Despegue\n"
     ]
    }
   ],
   "source": [
    "def countdown(n):\n",
    "    while n>0:\n",
    "        print(n)\n",
    "        n=n-1\n",
    "    print('Despegue')\n",
    "\n",
    "countdown(5)"
   ]
  },
  {
   "cell_type": "code",
   "execution_count": 120,
   "metadata": {},
   "outputs": [
    {
     "name": "stdout",
     "output_type": "stream",
     "text": [
      "50\n",
      "25.0\n",
      "76.0\n",
      "38.0\n",
      "19.0\n",
      "58.0\n",
      "29.0\n",
      "88.0\n",
      "44.0\n",
      "22.0\n",
      "11.0\n",
      "34.0\n",
      "17.0\n",
      "52.0\n",
      "26.0\n",
      "13.0\n",
      "40.0\n",
      "20.0\n",
      "10.0\n",
      "5.0\n",
      "16.0\n",
      "8.0\n",
      "4.0\n",
      "2.0\n"
     ]
    }
   ],
   "source": [
    "def sequence(n):\n",
    "    while n!=1:\n",
    "        print(n)\n",
    "        if n%2==0:   #n es par\n",
    "            n=n/2\n",
    "        else:       #n es impar\n",
    "            n=n*3+1\n",
    "sequence(50)"
   ]
  },
  {
   "cell_type": "markdown",
   "metadata": {},
   "source": [
    "En ocasiones se debe forzar a terminar el ciclo, la sentencia usada es **break**."
   ]
  },
  {
   "cell_type": "code",
   "execution_count": 124,
   "metadata": {},
   "outputs": [
    {
     "name": "stdout",
     "output_type": "stream",
     "text": [
      ">done\n",
      "Done\n"
     ]
    }
   ],
   "source": [
    "while True:\n",
    "    line = input('>')\n",
    "    if line=='done':\n",
    "        break\n",
    "    print(line)\n",
    "\n",
    "print('Done')\n",
    "#se solicita la entrada de un valor"
   ]
  },
  {
   "cell_type": "code",
   "execution_count": 2,
   "metadata": {},
   "outputs": [
    {
     "name": "stdout",
     "output_type": "stream",
     "text": [
      "3\n",
      "2.1666666666666665\n",
      "2.0064102564102564\n",
      "2.0000102400262145\n",
      "2.0000000000262146\n"
     ]
    }
   ],
   "source": [
    "###Raíz cuadrada\n",
    "a=4 ###Valor de la cual yo deseo obtener la raíz\n",
    "x=3 ###Estimación inicial de la raíz\n",
    "epsilon=0.0000001\n",
    "while True:\n",
    "    print(x)\n",
    "    y=(x+a/x)/2\n",
    "    if abs(y-x)<epsilon:\n",
    "        break\n",
    "    x=y\n",
    "\n",
    "    "
   ]
  },
  {
   "cell_type": "markdown",
   "metadata": {},
   "source": [
    "La sentencia **while** puede usarse en combinación con las sentencias **else** o con **continue**. "
   ]
  },
  {
   "cell_type": "markdown",
   "metadata": {},
   "source": [
    "## Cíclo for"
   ]
  },
  {
   "cell_type": "code",
   "execution_count": 3,
   "metadata": {},
   "outputs": [
    {
     "name": "stdout",
     "output_type": "stream",
     "text": [
      "0\n",
      "1\n",
      "2\n",
      "3\n"
     ]
    }
   ],
   "source": [
    "###range arroja una sucesión de valores y a través del for es recorrida, pero\n",
    "### se pueden recorrer listas u otros objetos\n",
    "for i in range(4):\n",
    "    print(i)"
   ]
  },
  {
   "cell_type": "code",
   "execution_count": 4,
   "metadata": {},
   "outputs": [
    {
     "name": "stdout",
     "output_type": "stream",
     "text": [
      "1\n",
      "2\n",
      "3\n",
      "4\n",
      "5\n",
      "6\n",
      "7\n",
      "8\n",
      "9\n",
      "10\n"
     ]
    }
   ],
   "source": [
    "for i in range(1,11):\n",
    "    print(i)"
   ]
  },
  {
   "cell_type": "code",
   "execution_count": 5,
   "metadata": {},
   "outputs": [
    {
     "name": "stdout",
     "output_type": "stream",
     "text": [
      "H\n",
      "o\n",
      "l\n",
      "a\n",
      " \n",
      "M\n",
      "u\n",
      "n\n",
      "d\n",
      "o\n"
     ]
    }
   ],
   "source": [
    "oracion='Hola Mundo'\n",
    "for j in oracion:\n",
    "    print(j)\n"
   ]
  },
  {
   "cell_type": "code",
   "execution_count": 149,
   "metadata": {},
   "outputs": [
    {
     "name": "stdout",
     "output_type": "stream",
     "text": [
      "Jack\n",
      "Kack\n",
      "Lack\n",
      "Mack\n",
      "Nack\n",
      "Oack\n",
      "Pack\n",
      "Qack\n"
     ]
    }
   ],
   "source": [
    "prefijos='JKLMNOPQ'\n",
    "sufijos= 'ack'\n",
    "for letter in prefijos:\n",
    "    print(letter+sufijos)"
   ]
  },
  {
   "cell_type": "code",
   "execution_count": 129,
   "metadata": {},
   "outputs": [
    {
     "name": "stdout",
     "output_type": "stream",
     "text": [
      "0\n",
      "1\n",
      "2\n",
      "3\n"
     ]
    }
   ],
   "source": [
    "###Se puede usar el brake para finalizar antes\n",
    "for i in range(5):\n",
    "    print(i)\n",
    "    if i==3:\n",
    "        break\n"
   ]
  },
  {
   "cell_type": "code",
   "execution_count": 133,
   "metadata": {},
   "outputs": [
    {
     "name": "stdout",
     "output_type": "stream",
     "text": [
      "0 0\n",
      "0 1\n",
      "0 2\n",
      "0 3\n",
      "0 4\n",
      "0 5\n",
      "1 0\n",
      "1 1\n",
      "1 2\n",
      "1 3\n",
      "1 4\n",
      "1 5\n",
      "2 0\n",
      "2 1\n",
      "2 2\n",
      "2 3\n",
      "2 4\n",
      "2 5\n",
      "3 0\n",
      "3 1\n",
      "3 2\n",
      "3 3\n",
      "3 4\n",
      "3 5\n",
      "4 0\n",
      "4 1\n",
      "4 2\n",
      "4 3\n",
      "4 4\n",
      "4 5\n",
      "5 0\n",
      "5 1\n",
      "5 2\n",
      "5 3\n",
      "5 4\n",
      "5 5\n"
     ]
    }
   ],
   "source": [
    "#Cíclos anidados\n",
    "for x in range(6):\n",
    "    for y in range(6):\n",
    "        print(x,y)\n"
   ]
  },
  {
   "cell_type": "code",
   "execution_count": 6,
   "metadata": {},
   "outputs": [
    {
     "name": "stdout",
     "output_type": "stream",
     "text": [
      "lista no contiene un número par\n",
      "lista contiene un número par\n"
     ]
    }
   ],
   "source": [
    "## Se puede usar un else dentro del for que se ejecuta cuando haya termiando el for\n",
    "def contains_even_number(l): \n",
    "    for ele in l: \n",
    "        if ele % 2 == 0: \n",
    "            print (\"lista contiene un número par\") \n",
    "            break\n",
    "  \n",
    "    # This else executes only if break is NEVER \n",
    "    # reached and loop terminated after all iterations. \n",
    "    else:      \n",
    "        print (\"lista no contiene un número par\") \n",
    "\n",
    "contains_even_number([1,3,5])\n",
    "contains_even_number([1,3,2])"
   ]
  },
  {
   "cell_type": "markdown",
   "metadata": {},
   "source": [
    "# Búsqueda en una cadena"
   ]
  },
  {
   "cell_type": "code",
   "execution_count": 7,
   "metadata": {},
   "outputs": [
    {
     "data": {
      "text/plain": [
       "5"
      ]
     },
     "execution_count": 7,
     "metadata": {},
     "output_type": "execute_result"
    },
    {
     "data": {
      "text/plain": [
       "2"
      ]
     },
     "execution_count": 7,
     "metadata": {},
     "output_type": "execute_result"
    }
   ],
   "source": [
    "def encontrar(palabra,letra):\n",
    "    index=0\n",
    "    while index<len(palabra):\n",
    "        if palabra[index]==letra:\n",
    "            return index\n",
    "        index=index+1\n",
    "    return -1\n",
    "\n",
    "###La anterior función toma una letra y la busca dentro de la palabra y da su primera posición\n",
    "encontrar('Isabella','l')\n",
    "encontrar('Isabella','a')"
   ]
  },
  {
   "cell_type": "code",
   "execution_count": 163,
   "metadata": {},
   "outputs": [
    {
     "name": "stdout",
     "output_type": "stream",
     "text": [
      "3\n"
     ]
    }
   ],
   "source": [
    "palabra='banana'\n",
    "count=0\n",
    "for letter in palabra:\n",
    "    if letter=='a':\n",
    "        count=count+1\n",
    "print(count)"
   ]
  },
  {
   "cell_type": "markdown",
   "metadata": {},
   "source": [
    "# Una lista es una Sucesión"
   ]
  },
  {
   "cell_type": "markdown",
   "metadata": {},
   "source": [
    "Al igual que una cadena, una lista es una sucesión de valores. En una cadena, los valores son caracteres; en una lista los valores pueden ser de caulquier tipo. Los valores en una lista son llamados lementos o items."
   ]
  },
  {
   "cell_type": "code",
   "execution_count": 10,
   "metadata": {},
   "outputs": [
    {
     "name": "stdout",
     "output_type": "stream",
     "text": [
      "[10, 20, 30, 40] ['Banano', 'Manzana', 'Uva'] ['spam', 2.0, 5, [10, 20]] []\n"
     ]
    },
    {
     "data": {
      "text/plain": [
       "list"
      ]
     },
     "execution_count": 10,
     "metadata": {},
     "output_type": "execute_result"
    }
   ],
   "source": [
    "# la forma mas fácil de crear una lista es usando los paréntesis cuadrados []\n",
    "years=[10,20,30,40]\n",
    "frutas=['Banano','Manzana','Uva']\n",
    "variado=['spam',2.0,5,[10,20]]\n",
    "vacio=[]\n",
    "print(years,frutas,variado,vacio)\n",
    "type(vacio)"
   ]
  },
  {
   "cell_type": "code",
   "execution_count": 171,
   "metadata": {},
   "outputs": [
    {
     "data": {
      "text/plain": [
       "[10, 50, 30, 40]"
      ]
     },
     "execution_count": 171,
     "metadata": {},
     "output_type": "execute_result"
    },
    {
     "data": {
      "text/plain": [
       "['uchuva', 'arandano']"
      ]
     },
     "execution_count": 171,
     "metadata": {},
     "output_type": "execute_result"
    }
   ],
   "source": [
    "#Las listas son mutables, es decir, podemos cambiar los valores de las entradas de la listas\n",
    "years[1]=50\n",
    "years\n",
    "frutas=['uchuva','arandano']\n",
    "frutas"
   ]
  },
  {
   "cell_type": "code",
   "execution_count": 11,
   "metadata": {},
   "outputs": [
    {
     "name": "stdout",
     "output_type": "stream",
     "text": [
      "10\n",
      "20\n",
      "30\n",
      "40\n"
     ]
    },
    {
     "data": {
      "text/plain": [
       "[20, 30]"
      ]
     },
     "execution_count": 11,
     "metadata": {},
     "output_type": "execute_result"
    }
   ],
   "source": [
    "###Se puede recorrer una lista con el ciclo for, también recorrer pedazos de la lista\n",
    "for i in range(len(years)):\n",
    "    print(years[i])\n",
    "\n",
    "years[1:3]"
   ]
  },
  {
   "cell_type": "code",
   "execution_count": 12,
   "metadata": {},
   "outputs": [
    {
     "name": "stdout",
     "output_type": "stream",
     "text": [
      "spam\n",
      "2.0\n",
      "5\n",
      "[10, 20]\n"
     ]
    }
   ],
   "source": [
    "for i in range(len(variado)):\n",
    "    print(variado[i])"
   ]
  },
  {
   "cell_type": "code",
   "execution_count": 14,
   "metadata": {},
   "outputs": [
    {
     "name": "stdout",
     "output_type": "stream",
     "text": [
      "['a', 'b', 'c', 'd', 'e']\n"
     ]
    }
   ],
   "source": [
    "###También se puede concatenar cadenas con + o replicar con el operador *\n",
    "###También se le pueden aplicar métodos con el operador punto .\n",
    "t=['a','b','c','d']\n",
    "t.append('e')\n",
    "print(t)\n"
   ]
  },
  {
   "cell_type": "code",
   "execution_count": 15,
   "metadata": {},
   "outputs": [
    {
     "data": {
      "text/plain": [
       "['a', 'b', 'c', 'd', 'e']"
      ]
     },
     "execution_count": 15,
     "metadata": {},
     "output_type": "execute_result"
    }
   ],
   "source": [
    "####extender\n",
    "t1=['a','b','c']\n",
    "t2=['d','e']\n",
    "t1.extend(t2)\n",
    "t1\n"
   ]
  },
  {
   "cell_type": "code",
   "execution_count": 17,
   "metadata": {},
   "outputs": [
    {
     "data": {
      "text/plain": [
       "['e', 'd', 'c', 'b', 'a']"
      ]
     },
     "execution_count": 17,
     "metadata": {},
     "output_type": "execute_result"
    }
   ],
   "source": [
    "####ordenar\n",
    "t=['d','c','e','b','a']\n",
    "t.sort()\n",
    "t\n",
    "####Note que no hay que asignar el resultado, t se ordena automáticamente"
   ]
  },
  {
   "cell_type": "code",
   "execution_count": 18,
   "metadata": {},
   "outputs": [
    {
     "data": {
      "text/plain": [
       "'b'"
      ]
     },
     "execution_count": 18,
     "metadata": {},
     "output_type": "execute_result"
    },
    {
     "data": {
      "text/plain": [
       "['a', 'c']"
      ]
     },
     "execution_count": 18,
     "metadata": {},
     "output_type": "execute_result"
    }
   ],
   "source": [
    "###Borrar elementos\n",
    "#Si se conoce el índice del elemento que se desea elinar, se puede usar pop y entrega el elemento que fue removido.\n",
    "t=['a','b','c']\n",
    "x=t.pop(1)\n",
    "x\n",
    "t"
   ]
  },
  {
   "cell_type": "code",
   "execution_count": 19,
   "metadata": {},
   "outputs": [
    {
     "data": {
      "text/plain": [
       "['a', 'c']"
      ]
     },
     "execution_count": 19,
     "metadata": {},
     "output_type": "execute_result"
    },
    {
     "data": {
      "text/plain": [
       "'c'"
      ]
     },
     "execution_count": 19,
     "metadata": {},
     "output_type": "execute_result"
    }
   ],
   "source": [
    "t=['a','b','c']\n",
    "del t[1] ##Si no se necesita el valor removido\n",
    "t\n",
    "t[1]"
   ]
  },
  {
   "cell_type": "code",
   "execution_count": 190,
   "metadata": {},
   "outputs": [
    {
     "data": {
      "text/plain": [
       "['a', 'c']"
      ]
     },
     "execution_count": 190,
     "metadata": {},
     "output_type": "execute_result"
    },
    {
     "data": {
      "text/plain": [
       "[1, 4, 5, 6]"
      ]
     },
     "execution_count": 190,
     "metadata": {},
     "output_type": "execute_result"
    }
   ],
   "source": [
    "####Si se conoce el valor que se va a remover pero no el índice, se usa remove\n",
    "t=['a','b','c']\n",
    "t.remove('b')\n",
    "t\n",
    "y=[1,2,3,4,5,6]\n",
    "del y[1:3]\n",
    "y"
   ]
  },
  {
   "cell_type": "markdown",
   "metadata": {},
   "source": [
    "# Diccionarios"
   ]
  },
  {
   "cell_type": "markdown",
   "metadata": {},
   "source": [
    "Los diccionarios son como listas, pero mas generales. En una lista los índices son número enteros,\n",
    "mientras que en un diccionario pueden ser casi cualquier tipo. En un lenguaje matemático, un diccionario representa un mapeo, tal que cada clave(índice) mapea a un valor. Por ejemplo, se puede construir un diccionario que mapea palabras del Inglés al Español. La función **dict** crea un nuevo diccionario."
   ]
  },
  {
   "cell_type": "code",
   "execution_count": 21,
   "metadata": {},
   "outputs": [
    {
     "data": {
      "text/plain": [
       "{}"
      ]
     },
     "execution_count": 21,
     "metadata": {},
     "output_type": "execute_result"
    },
    {
     "data": {
      "text/plain": [
       "dict"
      ]
     },
     "execution_count": 21,
     "metadata": {},
     "output_type": "execute_result"
    }
   ],
   "source": [
    "sp2eng=dict()\n",
    "sp2eng ###La llaves vacías representa un diccionario vacío.\n",
    "type(sp2eng)"
   ]
  },
  {
   "cell_type": "code",
   "execution_count": 22,
   "metadata": {},
   "outputs": [
    {
     "data": {
      "text/plain": [
       "{'uno': 'one'}"
      ]
     },
     "execution_count": 22,
     "metadata": {},
     "output_type": "execute_result"
    },
    {
     "data": {
      "text/plain": [
       "{'uno': 'one', 'dos': 'two'}"
      ]
     },
     "execution_count": 22,
     "metadata": {},
     "output_type": "execute_result"
    },
    {
     "data": {
      "text/plain": [
       "{'uno': 'one', 'dos': 'two', 'reservar': 'book', 'libro': 'book'}"
      ]
     },
     "execution_count": 22,
     "metadata": {},
     "output_type": "execute_result"
    }
   ],
   "source": [
    "#Podemos adicionar elementos a un diccionario como sigue\n",
    "sp2eng['uno']='one'\n",
    "sp2eng\n",
    "sp2eng['dos']='two'\n",
    "sp2eng\n",
    "sp2eng['reservar']='book'\n",
    "sp2eng['libro']='book'\n",
    "sp2eng\n",
    "\n"
   ]
  },
  {
   "cell_type": "code",
   "execution_count": 23,
   "metadata": {},
   "outputs": [
    {
     "data": {
      "text/plain": [
       "'one'"
      ]
     },
     "execution_count": 23,
     "metadata": {},
     "output_type": "execute_result"
    },
    {
     "data": {
      "text/plain": [
       "'book'"
      ]
     },
     "execution_count": 23,
     "metadata": {},
     "output_type": "execute_result"
    },
    {
     "data": {
      "text/plain": [
       "dict"
      ]
     },
     "execution_count": 23,
     "metadata": {},
     "output_type": "execute_result"
    }
   ],
   "source": [
    "sp2eng['uno']\n",
    "sp2eng['reservar']\n",
    "type(sp2eng)"
   ]
  },
  {
   "cell_type": "code",
   "execution_count": 31,
   "metadata": {},
   "outputs": [
    {
     "data": {
      "text/plain": [
       "4"
      ]
     },
     "execution_count": 31,
     "metadata": {},
     "output_type": "execute_result"
    },
    {
     "data": {
      "text/plain": [
       "True"
      ]
     },
     "execution_count": 31,
     "metadata": {},
     "output_type": "execute_result"
    },
    {
     "data": {
      "text/plain": [
       "dict_values(['one', 'two', 'book', 'book'])"
      ]
     },
     "execution_count": 31,
     "metadata": {},
     "output_type": "execute_result"
    },
    {
     "data": {
      "text/plain": [
       "True"
      ]
     },
     "execution_count": 31,
     "metadata": {},
     "output_type": "execute_result"
    },
    {
     "data": {
      "text/plain": [
       "'one'"
      ]
     },
     "execution_count": 31,
     "metadata": {},
     "output_type": "execute_result"
    },
    {
     "data": {
      "text/plain": [
       "'No está en el diccionario'"
      ]
     },
     "execution_count": 31,
     "metadata": {},
     "output_type": "execute_result"
    }
   ],
   "source": [
    "len(sp2eng)\n",
    "'uno' in sp2eng\n",
    "valores=sp2eng.values()\n",
    "valores\n",
    "'book' in valores\n",
    "\n",
    "sp2eng.get('uno')\n",
    "sp2eng.get('tres','No está en el diccionario')\n"
   ]
  },
  {
   "cell_type": "code",
   "execution_count": 212,
   "metadata": {},
   "outputs": [
    {
     "name": "stdout",
     "output_type": "stream",
     "text": [
      "one\n",
      "two\n",
      "book\n",
      "book\n"
     ]
    },
    {
     "data": {
      "text/plain": [
       "dict_values(['one', 'two', 'book', 'book'])"
      ]
     },
     "execution_count": 212,
     "metadata": {},
     "output_type": "execute_result"
    }
   ],
   "source": [
    "for clave in sp2eng:\n",
    "    print(sp2eng[clave])\n",
    "valores"
   ]
  },
  {
   "cell_type": "markdown",
   "metadata": {},
   "source": [
    "# Tuplas"
   ]
  },
  {
   "cell_type": "markdown",
   "metadata": {},
   "source": [
    "Una tupla es una sucesión de valores. Los valores pueden ser de cualquier tipo, y son indexados por los enteros. Las tuplas son como listas pero son inmutables, es decir, no se les puede cambiar sus valores.\n"
   ]
  },
  {
   "cell_type": "code",
   "execution_count": 32,
   "metadata": {},
   "outputs": [
    {
     "data": {
      "text/plain": [
       "('a', 'b', 'c', 'd', 'e')"
      ]
     },
     "execution_count": 32,
     "metadata": {},
     "output_type": "execute_result"
    },
    {
     "data": {
      "text/plain": [
       "tuple"
      ]
     },
     "execution_count": 32,
     "metadata": {},
     "output_type": "execute_result"
    },
    {
     "data": {
      "text/plain": [
       "('a', 'b', 'c', 'd', 'e')"
      ]
     },
     "execution_count": 32,
     "metadata": {},
     "output_type": "execute_result"
    },
    {
     "data": {
      "text/plain": [
       "('e', 'j', 'e', 'm', 'p', 'l', 'o', 't', 'u', 'p', 'l', 'a')"
      ]
     },
     "execution_count": 32,
     "metadata": {},
     "output_type": "execute_result"
    },
    {
     "data": {
      "text/plain": [
       "'a'"
      ]
     },
     "execution_count": 32,
     "metadata": {},
     "output_type": "execute_result"
    },
    {
     "ename": "TypeError",
     "evalue": "'tuple' object does not support item assignment",
     "output_type": "error",
     "traceback": [
      "\u001b[0;31m---------------------------------------------------------------------------\u001b[0m",
      "\u001b[0;31mTypeError\u001b[0m                                 Traceback (most recent call last)",
      "\u001b[0;32m<ipython-input-32-d03bd61a5c65>\u001b[0m in \u001b[0;36m<module>\u001b[0;34m()\u001b[0m\n\u001b[1;32m      7\u001b[0m \u001b[0mt2\u001b[0m\u001b[0;34m\u001b[0m\u001b[0;34m\u001b[0m\u001b[0m\n\u001b[1;32m      8\u001b[0m \u001b[0mt\u001b[0m\u001b[0;34m[\u001b[0m\u001b[0;36m0\u001b[0m\u001b[0;34m]\u001b[0m\u001b[0;34m\u001b[0m\u001b[0;34m\u001b[0m\u001b[0m\n\u001b[0;32m----> 9\u001b[0;31m \u001b[0mt\u001b[0m\u001b[0;34m[\u001b[0m\u001b[0;36m0\u001b[0m\u001b[0;34m]\u001b[0m\u001b[0;34m=\u001b[0m\u001b[0;36m1\u001b[0m\u001b[0;34m\u001b[0m\u001b[0;34m\u001b[0m\u001b[0m\n\u001b[0m",
      "\u001b[0;31mTypeError\u001b[0m: 'tuple' object does not support item assignment"
     ]
    }
   ],
   "source": [
    "t='a','b','c','d','e'\n",
    "t\n",
    "type(t)\n",
    "t1=('a','b','c','d','e')\n",
    "t1\n",
    "t2=tuple('ejemplotupla')\n",
    "t2\n",
    "t[0]\n",
    "t[0]=1"
   ]
  },
  {
   "cell_type": "code",
   "execution_count": 224,
   "metadata": {},
   "outputs": [
    {
     "data": {
      "text/plain": [
       "('A', 'b', 'c', 'd', 'e')"
      ]
     },
     "execution_count": 224,
     "metadata": {},
     "output_type": "execute_result"
    }
   ],
   "source": [
    "t=('A',)+t[1:] ###Si se puede reemplar una tupla con otra\n",
    "t"
   ]
  },
  {
   "cell_type": "code",
   "execution_count": 33,
   "metadata": {},
   "outputs": [
    {
     "data": {
      "text/plain": [
       "(2, 1)"
      ]
     },
     "execution_count": 33,
     "metadata": {},
     "output_type": "execute_result"
    },
    {
     "data": {
      "text/plain": [
       "tuple"
      ]
     },
     "execution_count": 33,
     "metadata": {},
     "output_type": "execute_result"
    },
    {
     "data": {
      "text/plain": [
       "2"
      ]
     },
     "execution_count": 33,
     "metadata": {},
     "output_type": "execute_result"
    },
    {
     "data": {
      "text/plain": [
       "1"
      ]
     },
     "execution_count": 33,
     "metadata": {},
     "output_type": "execute_result"
    },
    {
     "data": {
      "text/plain": [
       "int"
      ]
     },
     "execution_count": 33,
     "metadata": {},
     "output_type": "execute_result"
    }
   ],
   "source": [
    "t=divmod(7,3)\n",
    "t\n",
    "type(t)\n",
    "cociente, resto=divmod(7,3)\n",
    "cociente\n",
    "resto\n",
    "type(cociente)"
   ]
  },
  {
   "cell_type": "markdown",
   "metadata": {},
   "source": [
    "# Programación Orientada a Objetos"
   ]
  },
  {
   "cell_type": "markdown",
   "metadata": {},
   "source": [
    "La programación orientada a objetos, consiste en usar tipos definidos por el programador para organizar tanto códigos como datos. Ejemplos de tipos que tiene Python son:\n",
    "- <font color=blue>listas</font> \n",
    "- cadenas\n",
    "- dicccionarios\n",
    "- <font color=red>tuplas</font> \n",
    "\n",
    "Sin embargo, es posible definir nuevos tipos. Por ejemplo, se puede crear un nuevo tipo llamado **Point**, que representa un punto en un espacio bidimensional(_Por supuesto el módulo numpy crea objetos multidimensionales, matriciales y arreglos_).\n"
   ]
  },
  {
   "cell_type": "code",
   "execution_count": 35,
   "metadata": {},
   "outputs": [
    {
     "data": {
      "text/plain": [
       "__main__.Point"
      ]
     },
     "execution_count": 35,
     "metadata": {},
     "output_type": "execute_result"
    },
    {
     "data": {
      "text/plain": [
       "type"
      ]
     },
     "execution_count": 35,
     "metadata": {},
     "output_type": "execute_result"
    }
   ],
   "source": [
    "### Se puede definir una nueva tipo o clase a través de class\n",
    "### Se pueden definir variables y métodos dentro de una definición de una lcase\n",
    "class Point:\n",
    "    \"\"\"Representa in point en el espacio 2-D.\"\"\"\n",
    "\n",
    "Point\n",
    "type(Point)\n",
    "###Point es definido como de alto nivel, por esos su nombre completo es _main_.Point"
   ]
  },
  {
   "cell_type": "code",
   "execution_count": 36,
   "metadata": {},
   "outputs": [
    {
     "data": {
      "text/plain": [
       "<__main__.Point at 0x107975f60>"
      ]
     },
     "execution_count": 36,
     "metadata": {},
     "output_type": "execute_result"
    }
   ],
   "source": [
    "###Se puede crear un tipo Point, sólo como si se llamara una función\n",
    "blank=Point()\n",
    "blank"
   ]
  },
  {
   "cell_type": "code",
   "execution_count": null,
   "metadata": {},
   "outputs": [],
   "source": [
    "##Un nuevo objeto es llamdo una instancia o ejemplo de la clase."
   ]
  },
  {
   "cell_type": "code",
   "execution_count": 38,
   "metadata": {},
   "outputs": [
    {
     "data": {
      "text/plain": [
       "3.0"
      ]
     },
     "execution_count": 38,
     "metadata": {},
     "output_type": "execute_result"
    },
    {
     "data": {
      "text/plain": [
       "4.0"
      ]
     },
     "execution_count": 38,
     "metadata": {},
     "output_type": "execute_result"
    }
   ],
   "source": [
    "###Asignación de valores a la instacia se hace de tal manera como seleccionar una variable de un módulo\n",
    "###math.pi o string.whitespace\n",
    "blank.x=3.0\n",
    "blank.y=4.0\n",
    "\n",
    "blank.x\n",
    "blank.y"
   ]
  },
  {
   "cell_type": "markdown",
   "metadata": {},
   "source": [
    "Vamos a crear una clase para representar rectangulos. Una posibilidad representar un rectangulo es a través de una esquina, junto con el alto y el ancho."
   ]
  },
  {
   "cell_type": "code",
   "execution_count": 40,
   "metadata": {},
   "outputs": [
    {
     "data": {
      "text/plain": [
       "<__main__.Rectangle at 0x1079c5908>"
      ]
     },
     "execution_count": 40,
     "metadata": {},
     "output_type": "execute_result"
    },
    {
     "data": {
      "text/plain": [
       "200.0"
      ]
     },
     "execution_count": 40,
     "metadata": {},
     "output_type": "execute_result"
    },
    {
     "data": {
      "text/plain": [
       "100.0"
      ]
     },
     "execution_count": 40,
     "metadata": {},
     "output_type": "execute_result"
    },
    {
     "data": {
      "text/plain": [
       "0.0"
      ]
     },
     "execution_count": 40,
     "metadata": {},
     "output_type": "execute_result"
    },
    {
     "data": {
      "text/plain": [
       "0.0"
      ]
     },
     "execution_count": 40,
     "metadata": {},
     "output_type": "execute_result"
    },
    {
     "name": "stdout",
     "output_type": "stream",
     "text": [
      "<__main__.Point object at 0x107975f60>\n"
     ]
    }
   ],
   "source": [
    "class Rectangle:\n",
    "    \"\"\"Representa un rectangulo.\n",
    "    \n",
    "    attributos: alto, ancho, esquina.\n",
    "    \"\"\"\n",
    "box=Rectangle()\n",
    "box.ancho=100.0\n",
    "box.alto=200.0\n",
    "box.esquina=Point()\n",
    "box.esquina.x=0.0\n",
    "box.esquina.y=0.0\n",
    "box\n",
    "box.alto #podemos dar tab después del punto para ver que atributos tiene el objeto box\n",
    "box.ancho\n",
    "box.esquina.x\n",
    "box.esquina.y\n",
    "print(blank)"
   ]
  },
  {
   "cell_type": "code",
   "execution_count": 42,
   "metadata": {},
   "outputs": [
    {
     "name": "stdout",
     "output_type": "stream",
     "text": [
      "(3,4)\n"
     ]
    }
   ],
   "source": [
    "def print_point(p):\n",
    "    print('(%g,%g)' % (p.x,p.y))### %g especifica el tipo de formato como se va a visualizar\n",
    "    \n",
    "print_point(blank)"
   ]
  },
  {
   "cell_type": "markdown",
   "metadata": {},
   "source": [
    "# Instancias como valores que se retornan"
   ]
  },
  {
   "cell_type": "markdown",
   "metadata": {},
   "source": [
    "Las funciones pueden retornar instancias. Veamos la función **find_center**:"
   ]
  },
  {
   "cell_type": "code",
   "execution_count": 43,
   "metadata": {},
   "outputs": [
    {
     "name": "stdout",
     "output_type": "stream",
     "text": [
      "(50,100)\n",
      "(3,4)\n"
     ]
    }
   ],
   "source": [
    "####La idea es que la función toma el objeto Rectangle como argumento y\n",
    "####retorne las coordinadas del centro del rectangulo\n",
    "def find_center(rect):\n",
    "    p=Point()\n",
    "    p.x=rect.esquina.x+rect.ancho/2\n",
    "    p.y=rect.esquina.y+rect.alto/2\n",
    "    return p\n",
    "centro=find_center(box)\n",
    "print_point(centro)\n",
    "print_point(blank)\n",
    "\n",
    "###Observación: Los objetos son mutables"
   ]
  },
  {
   "cell_type": "code",
   "execution_count": 257,
   "metadata": {},
   "outputs": [
    {
     "data": {
      "text/plain": [
       "<__main__.Time at 0x1207cec50>"
      ]
     },
     "execution_count": 257,
     "metadata": {},
     "output_type": "execute_result"
    },
    {
     "data": {
      "text/plain": [
       "11"
      ]
     },
     "execution_count": 257,
     "metadata": {},
     "output_type": "execute_result"
    },
    {
     "data": {
      "text/plain": [
       "59"
      ]
     },
     "execution_count": 257,
     "metadata": {},
     "output_type": "execute_result"
    },
    {
     "data": {
      "text/plain": [
       "30"
      ]
     },
     "execution_count": 257,
     "metadata": {},
     "output_type": "execute_result"
    },
    {
     "data": {
      "text/plain": [
       "True"
      ]
     },
     "execution_count": 257,
     "metadata": {},
     "output_type": "execute_result"
    },
    {
     "data": {
      "text/plain": [
       "False"
      ]
     },
     "execution_count": 257,
     "metadata": {},
     "output_type": "execute_result"
    }
   ],
   "source": [
    "###Vamos a crear funciones que tomen objetos definidos por el programador como parámetros\n",
    "###y retorne objetos definidos por el programador como resultado.\n",
    "class Time:\n",
    "    \"\"\"Representa la hora del día.\n",
    "    \n",
    "    atributos:hora, minuto, segundo\n",
    " \"\"\"\n",
    "tiempo=Time()\n",
    "tiempo.hora=11\n",
    "tiempo.minuto=59\n",
    "tiempo.segundo=30\n",
    "tiempo\n",
    "tiempo.hora\n",
    "tiempo.minuto\n",
    "tiempo.segundo\n",
    "hasattr(tiempo,'minuto')  ###Prueba si un objeto tiempo tiene el atributo minuto\n",
    "hasattr(tiempo,'ms')\n"
   ]
  },
  {
   "cell_type": "code",
   "execution_count": 269,
   "metadata": {},
   "outputs": [],
   "source": [
    "#Se crea una función que imprime la hora del objeto tiempo que es time.\n",
    "def print_time(horario):\n",
    "    print('%.2d:%.2d:%.2d' % (horario.hora,horario.minuto,horario.segundo))"
   ]
  },
  {
   "cell_type": "code",
   "execution_count": 259,
   "metadata": {},
   "outputs": [
    {
     "name": "stdout",
     "output_type": "stream",
     "text": [
      "11:59:30\n"
     ]
    }
   ],
   "source": [
    "print_time(tiempo)"
   ]
  },
  {
   "cell_type": "code",
   "execution_count": null,
   "metadata": {},
   "outputs": [],
   "source": [
    "###Ahora si crearemos una función que toma dos objetos Time(hora de inicio de la película y duración de la película)\n",
    "###y entrega un objeto Time que es la hora de finalización de la película"
   ]
  },
  {
   "cell_type": "code",
   "execution_count": 260,
   "metadata": {},
   "outputs": [],
   "source": [
    "def add_time(t1,t2):\n",
    "    sum=Time()\n",
    "    sum.hora=t1.hora+t2.hora\n",
    "    sum.minuto=t1.minuto+t2.minuto\n",
    "    sum.segundo=t1.segundo+t2.segundo\n",
    "    \n",
    "    if sum.segundo>=60:\n",
    "        sum.segundo-=60###Esto es equivalente a escribir sum.segundo=sum.segundo-60\n",
    "        sum.minuto+=1   ###Idema que arriba pero con la suma\n",
    "        \n",
    "    if sum.minuto>=60:\n",
    "        sum.minuto-=60\n",
    "        sum.hora+=1\n",
    "        \n",
    "    return sum"
   ]
  },
  {
   "cell_type": "code",
   "execution_count": 325,
   "metadata": {},
   "outputs": [
    {
     "name": "stdout",
     "output_type": "stream",
     "text": [
      "16:05:35\n"
     ]
    }
   ],
   "source": [
    "inicio=Time()\n",
    "inicio.hora=14\n",
    "inicio.minuto=20\n",
    "inicio.segundo=0.0\n",
    "\n",
    "duracion=Time()\n",
    "duracion.hora=1\n",
    "duracion.minuto=45\n",
    "duracion.segundo=35\n",
    "\n",
    "horafin=add_time(inicio,duracion)\n",
    "print_time(horafin)"
   ]
  },
  {
   "cell_type": "markdown",
   "metadata": {},
   "source": [
    "# Clases y métodos"
   ]
  },
  {
   "cell_type": "markdown",
   "metadata": {},
   "source": [
    "Python es un lenguaje de programación orientada a objetos, lo cual tiene las siguientes características:\n",
    "- Los programas incluyen clases y definición de métodos\n",
    "- Muchos de los cómputos son expresados en terminos de operaciones sobre objetos\n",
    "- Los objetos frecuentemente representan cosas en el mundo real, y los métodos corresponden a las formas en que las cosas en el mundo real ineteractúan.<br>\n",
    "<font color=green>Los métodos son semanticamente como funciones, pero difieren en su sintaxis de dos maneras:</font>\n",
    "- Los métodos son definidos dentro de la definición de la clase con el objeto de hacer las relaciones entre las clases y el método más explícito.\n",
    "- La sintaxis para invocar un método es diferente de la sintaxis para llamar una función."
   ]
  },
  {
   "cell_type": "code",
   "execution_count": 335,
   "metadata": {},
   "outputs": [],
   "source": [
    "###Vamos a crear el método imprimir la hora dentro de la clase Time\n",
    "class Time:\n",
    "    def print_time(self):\n",
    "        print('%.2d:%.2d:%.2d' % (self.hora,self.minuto,self.segundo))"
   ]
  },
  {
   "cell_type": "code",
   "execution_count": 336,
   "metadata": {},
   "outputs": [
    {
     "name": "stdout",
     "output_type": "stream",
     "text": [
      "14:20:00\n",
      "14:20:00\n"
     ]
    }
   ],
   "source": [
    "inicio=Time()  ###Note que éste objeto \"inicio\" tiene forma Time, pero es diferente al que escribimos anteriomente. \n",
    "inicio.hora=14\n",
    "inicio.minuto=20\n",
    "inicio.segundo=0.0\n",
    "Time.print_time(inicio)\n",
    "inicio.print_time()"
   ]
  },
  {
   "cell_type": "markdown",
   "metadata": {},
   "source": [
    "# Los métodos __init__ y __str__"
   ]
  },
  {
   "cell_type": "markdown",
   "metadata": {},
   "source": [
    "Se puede definir métodos para inicializar las variables **__init__** y **__str__** para retornar una cadena como representación de un objeto."
   ]
  },
  {
   "cell_type": "code",
   "execution_count": 340,
   "metadata": {},
   "outputs": [
    {
     "name": "stdout",
     "output_type": "stream",
     "text": [
      "00:00:00\n",
      "15:36:32\n"
     ]
    }
   ],
   "source": [
    "###Vamos a añadir el método __init__\n",
    "class Time:\n",
    "    \"\"\"Represents the time of day.\n",
    "       \n",
    "    attributes: hour, minute, second\n",
    "    \"\"\"\n",
    "    def __init__(self, hour=0, minute=0, second=0):\n",
    "        \"\"\"Initializes a time object.\n",
    "\n",
    "        hour: int\n",
    "        minute: int\n",
    "        second: int or float\n",
    "        \"\"\"\n",
    "        self.hour = hour\n",
    "        self.minute = minute\n",
    "        self.second = second\n",
    "        \n",
    "    def __str__(self):\n",
    "        \"\"\"Returns a string representation of the time.\"\"\"\n",
    "        return '%.2d:%.2d:%.2d' % (self.hour, self.minute, self.second)\n",
    "        \n",
    "    def print_time(self):\n",
    "        \"\"\"Prints a string representation of the time.\"\"\"\n",
    "        print(str(self))\n",
    "\n",
    "time=Time()\n",
    "time.print_time()\n",
    "time.hour=15\n",
    "time.minute=36\n",
    "time.second=32\n",
    "time.print_time()"
   ]
  },
  {
   "cell_type": "markdown",
   "metadata": {},
   "source": [
    "# Herencia "
   ]
  },
  {
   "cell_type": "markdown",
   "metadata": {},
   "source": [
    "La herencia es la capacidad de definir una nueva clase que es una versión modificada de una clase existente. Cómo ejemplo, vamos a definir un objeto que represente una carta del juego de poker. Los palos son Diamantes, corazones, picas y tréboles. Mientras que los valores que pueden tomar los palos son el as,2,3,4,5,6,7,8,9,10,Jack, Reina, Rey.<br>\n",
    "Los argumentos del objeto claramente deben ser:**palos:rank** y **valor:suit**. Vamos a codificar los palos y los valores:<br>\n",
    "$Clubs:Tréboles\\mapsto 0$<br>\n",
    "$Diamonds:Diamantes\\mapsto 1$<br>\n",
    "$Hearts:Corazones\\mapsto 2$<br>\n",
    "$Spades:Picas\\mapsto 3$<br>\n",
    "mientras que cada rango se codifica de manera natural y para el jack, reina y rey se continúa la numeración así:<br>\n",
    "$Jack\\mapsto 11$<br>\n",
    "$Queen\\mapsto 12$<br>\n",
    "$King\\mapsto 13$<br>\n",
    "\n",
    "\n"
   ]
  },
  {
   "cell_type": "code",
   "execution_count": 347,
   "metadata": {},
   "outputs": [
    {
     "data": {
      "text/plain": [
       "<__main__.Card at 0x1207d3978>"
      ]
     },
     "execution_count": 347,
     "metadata": {},
     "output_type": "execute_result"
    },
    {
     "data": {
      "text/plain": [
       "0"
      ]
     },
     "execution_count": 347,
     "metadata": {},
     "output_type": "execute_result"
    },
    {
     "data": {
      "text/plain": [
       "2"
      ]
     },
     "execution_count": 347,
     "metadata": {},
     "output_type": "execute_result"
    },
    {
     "data": {
      "text/plain": [
       "<__main__.Card at 0x12070d4a8>"
      ]
     },
     "execution_count": 347,
     "metadata": {},
     "output_type": "execute_result"
    },
    {
     "data": {
      "text/plain": [
       "1"
      ]
     },
     "execution_count": 347,
     "metadata": {},
     "output_type": "execute_result"
    },
    {
     "data": {
      "text/plain": [
       "12"
      ]
     },
     "execution_count": 347,
     "metadata": {},
     "output_type": "execute_result"
    },
    {
     "name": "stdout",
     "output_type": "stream",
     "text": [
      "Help on class Card in module __main__:\n",
      "\n",
      "class Card(builtins.object)\n",
      " |  Card(suit=0, rank=2)\n",
      " |  \n",
      " |  Representa una carta estándar de juego.\n",
      " |  \n",
      " |  Methods defined here:\n",
      " |  \n",
      " |  __init__(self, suit=0, rank=2)\n",
      " |      Initialize self.  See help(type(self)) for accurate signature.\n",
      " |  \n",
      " |  ----------------------------------------------------------------------\n",
      " |  Data descriptors defined here:\n",
      " |  \n",
      " |  __dict__\n",
      " |      dictionary for instance variables (if defined)\n",
      " |  \n",
      " |  __weakref__\n",
      " |      list of weak references to the object (if defined)\n",
      "\n"
     ]
    }
   ],
   "source": [
    "class Card:\n",
    "    \"\"\"Representa una carta estándar de juego.\"\"\"\n",
    "    def __init__(self,suit=0,rank=2):\n",
    "        self.suit=suit\n",
    "        self.rank=rank\n",
    "ejecarta=Card()\n",
    "ejecarta\n",
    "ejecarta.suit\n",
    "ejecarta.rank\n",
    "###Por ejemplo reina de diamantes sería\n",
    "queen_of_diamonds=Card(1,12)\n",
    "queen_of_diamonds\n",
    "\n",
    "queen_of_diamonds.suit\n",
    "queen_of_diamonds.rank\n",
    "help(Card)"
   ]
  },
  {
   "cell_type": "markdown",
   "metadata": {},
   "source": [
    "## Clase de atributos "
   ]
  },
  {
   "cell_type": "code",
   "execution_count": 349,
   "metadata": {},
   "outputs": [],
   "source": [
    "###Vamos a mapear los códigos enteros a los correspondientes rangos y palos que son caracteres\n",
    "class Card:\n",
    "    \"\"\"Representa una carta estándar de juego.\"\"\"\n",
    "    def __init__(self,suit=0,rank=2):\n",
    "        self.suit=suit\n",
    "        self.rank=rank\n",
    "        \n",
    "    suit_names = ['Clubs', 'Diamonds', 'Hearts', 'Spades']   ###Clases de Atributos\n",
    "    rank_names = [None, 'Ace', '2', '3', '4', '5', '6', '7','8', '9', '10', 'Jack', 'Queen', 'King'] ###Clases de Atributos\n",
    "    \n",
    "    def __str__(self):\n",
    "        return '%s of %s' % (Card.rank_names[self.rank],Card.suit_names[self.suit])\n"
   ]
  },
  {
   "cell_type": "code",
   "execution_count": 350,
   "metadata": {},
   "outputs": [
    {
     "name": "stdout",
     "output_type": "stream",
     "text": [
      "Jack of Hearts\n"
     ]
    }
   ],
   "source": [
    "card1=Card(2,11)\n",
    "print(card1)\n",
    "###Use tab para \n",
    "card1.rank_names"
   ]
  },
  {
   "cell_type": "code",
   "execution_count": 354,
   "metadata": {},
   "outputs": [
    {
     "name": "stdout",
     "output_type": "stream",
     "text": [
      "Jack of Hearts\n",
      "8 of Hearts\n"
     ]
    },
    {
     "data": {
      "text/plain": [
       "False"
      ]
     },
     "execution_count": 354,
     "metadata": {},
     "output_type": "execute_result"
    }
   ],
   "source": [
    "###Se pueden usar los operadores para comparar dos objetos de la clase, pero se debe proveer el método dentro de la clase\n",
    "###Vamos a mapear los códigos enteros a los correspondientes rangos y palos que son caracteres\n",
    "class Card:\n",
    "    \"\"\"Representa una carta estándar de juego.\"\"\"\n",
    "    def __init__(self,suit=0,rank=2):\n",
    "        self.suit=suit\n",
    "        self.rank=rank\n",
    "        \n",
    "    suit_names = ['Clubs', 'Diamonds', 'Hearts', 'Spades']   ###Clases de Atributos\n",
    "    rank_names = [None, 'Ace', '2', '3', '4', '5', '6', '7','8', '9', '10', 'Jack', 'Queen', 'King'] ###Clases de Atributos\n",
    "    \n",
    "    def __str__(self):\n",
    "        return '%s of %s' % (Card.rank_names[self.rank],Card.suit_names[self.suit])\n",
    "\n",
    "    def __lt__(self, other):\n",
    "            t1 = self.suit, self.rank\n",
    "            t2 = other.suit, other.rank\n",
    "            return t1 < t2\n",
    "        \n",
    "card1=Card(2,11)\n",
    "card2=Card(2,8)\n",
    "print(card1)\n",
    "print(card2)\n",
    "card1<card2"
   ]
  },
  {
   "cell_type": "code",
   "execution_count": 361,
   "metadata": {},
   "outputs": [
    {
     "name": "stdout",
     "output_type": "stream",
     "text": [
      "Ace of Clubs\n",
      "2 of Clubs\n",
      "3 of Clubs\n",
      "4 of Clubs\n",
      "5 of Clubs\n",
      "6 of Clubs\n",
      "7 of Clubs\n",
      "8 of Clubs\n",
      "9 of Clubs\n",
      "10 of Clubs\n",
      "Jack of Clubs\n",
      "Queen of Clubs\n",
      "King of Clubs\n",
      "Ace of Diamonds\n",
      "2 of Diamonds\n",
      "3 of Diamonds\n",
      "4 of Diamonds\n",
      "5 of Diamonds\n",
      "6 of Diamonds\n",
      "7 of Diamonds\n",
      "8 of Diamonds\n",
      "9 of Diamonds\n",
      "10 of Diamonds\n",
      "Jack of Diamonds\n",
      "Queen of Diamonds\n",
      "King of Diamonds\n",
      "Ace of Hearts\n",
      "2 of Hearts\n",
      "3 of Hearts\n",
      "4 of Hearts\n",
      "5 of Hearts\n",
      "6 of Hearts\n",
      "7 of Hearts\n",
      "8 of Hearts\n",
      "9 of Hearts\n",
      "10 of Hearts\n",
      "Jack of Hearts\n",
      "Queen of Hearts\n",
      "King of Hearts\n",
      "Ace of Spades\n",
      "2 of Spades\n",
      "3 of Spades\n",
      "4 of Spades\n",
      "5 of Spades\n",
      "6 of Spades\n",
      "7 of Spades\n",
      "8 of Spades\n",
      "9 of Spades\n",
      "10 of Spades\n",
      "Jack of Spades\n",
      "Queen of Spades\n",
      "King of Spades\n"
     ]
    }
   ],
   "source": [
    "###Con las cartas creadas se puede crear la baraja a través de una lista de objecto tipo Card\n",
    "class Deck:\n",
    "    def __init__(self):\n",
    "        self.cards=[]\n",
    "        for suit in range(4):\n",
    "            for rank in range(1,14): \n",
    "                card=Card(suit,rank)\n",
    "                self.cards.append(card)\n",
    "                \n",
    "    def __str__(self):\n",
    "        res=[]\n",
    "        for card in self.cards:\n",
    "            res.append(str(card))\n",
    "        return '\\n'.join(res)\n",
    "\n",
    "\n",
    "baraja=Deck()\n",
    "print(baraja)"
   ]
  },
  {
   "cell_type": "markdown",
   "metadata": {},
   "source": [
    "#    # Simulación de números Aleatorios Usando Python"
   ]
  },
  {
   "cell_type": "markdown",
   "metadata": {},
   "source": [
    "Veamos como utilizar algunas funciones de Python para simular números aleatorios. Hay al menos 2 formas de generar números aletorios en Python."
   ]
  },
  {
   "cell_type": "markdown",
   "metadata": {},
   "source": [
    "## Forma 1: Usando la librería random"
   ]
  },
  {
   "cell_type": "code",
   "execution_count": 2,
   "metadata": {},
   "outputs": [],
   "source": [
    "from random import seed\n",
    "from random import random\n",
    "from random import uniform\n",
    "from random import normalvariate \n",
    "from scipy.stats import shapiro\n",
    "from scipy.stats import kstest "
   ]
  },
  {
   "cell_type": "markdown",
   "metadata": {},
   "source": [
    "Generación de números aleatorios uniforme 0-1"
   ]
  },
  {
   "cell_type": "code",
   "execution_count": 3,
   "metadata": {},
   "outputs": [
    {
     "name": "stdout",
     "output_type": "stream",
     "text": [
      "0.13436424411240122\n",
      "0.8474337369372327\n",
      "0.763774618976614\n",
      "0.2550690257394217\n",
      "0.49543508709194095\n",
      "0.4494910647887381\n",
      "0.651592972722763\n",
      "0.7887233511355132\n",
      "0.0938595867742349\n",
      "0.02834747652200631\n"
     ]
    }
   ],
   "source": [
    "# seed random number generator\n",
    "#Uniforme(0,1)\n",
    "\n",
    "seed(1)\n",
    "# generate random numbers between 0-1\n",
    "for _ in range(10):\n",
    "   value = random()\n",
    "   print(value)\n",
    "    \n"
   ]
  },
  {
   "cell_type": "code",
   "execution_count": 6,
   "metadata": {},
   "outputs": [
    {
     "name": "stdout",
     "output_type": "stream",
     "text": [
      "0.6718212205620061\n",
      "4.237168684686163\n",
      "3.8188730948830703\n",
      "1.2753451286971085\n",
      "2.4771754354597046\n",
      "2.2474553239436905\n",
      "3.2579648636138145\n",
      "3.943616755677566\n",
      "0.46929793387117447\n",
      "0.14173738261003155\n"
     ]
    }
   ],
   "source": [
    "#Uniforme(a,b)\n",
    "seed(1)\n",
    "a=0\n",
    "b=5\n",
    "for _ in range(10):\n",
    "   value = uniform(a, b)\n",
    "   print(value)\n"
   ]
  },
  {
   "cell_type": "code",
   "execution_count": 3,
   "metadata": {},
   "outputs": [
    {
     "name": "stdout",
     "output_type": "stream",
     "text": [
      "7.769604300195271\n",
      "13.154893059655269\n",
      "11.404915091340511\n",
      "12.20378927229276\n",
      "7.352256159480335\n",
      "12.307908312700947\n",
      "7.1810775750440765\n",
      "8.76324824428376\n",
      "8.36377422361987\n",
      "11.922946472509848\n"
     ]
    }
   ],
   "source": [
    "#Normal\n",
    "seed(100)\n",
    "mu=10\n",
    "sd=2\n",
    "for _ in range(10):\n",
    "   value = normalvariate(mu, sd)\n",
    "   print(value)\n",
    "    \n"
   ]
  },
  {
   "cell_type": "code",
   "execution_count": 7,
   "metadata": {},
   "outputs": [
    {
     "name": "stdout",
     "output_type": "stream",
     "text": [
      "12.196155244521174\n",
      "9.461332730900871\n",
      "13.267320794986258\n",
      "11.39630715835109\n",
      "7.244670581435153\n",
      "10.124934414307255\n",
      "8.81266043943681\n",
      "10.515552730072834\n",
      "12.083900250629572\n",
      "11.985910552215277\n",
      "10.901944692637253\n",
      "7.940872167668324\n",
      "12.027250444206665\n",
      "8.291828255446454\n",
      "9.595232277869338\n",
      "8.792897009804758\n",
      "7.70820236940323\n",
      "8.10072183530908\n",
      "6.936487163388433\n",
      "10.535132869664471\n",
      "11.992769752308652\n",
      "10.513984588281186\n",
      "10.40645775864253\n",
      "12.645656079079728\n",
      "10.401743103229943\n",
      "8.744121656317251\n",
      "12.773792006440884\n",
      "12.51227247070285\n",
      "9.393722138774992\n",
      "11.446260943638189\n",
      "7.54886847902589\n",
      "11.621044004532683\n",
      "9.56876233245693\n",
      "8.894282219105776\n",
      "8.408980293343527\n",
      "9.662098278875312\n",
      "10.390227344818758\n",
      "11.940050683199692\n",
      "6.49428052597026\n",
      "10.20744168985694\n",
      "11.051083873558655\n",
      "15.337332126647034\n",
      "8.160744619913322\n",
      "10.951759601282818\n",
      "10.306510456039819\n",
      "13.481880654501813\n",
      "9.999328143236953\n",
      "9.77222204950518\n",
      "8.886982978796402\n",
      "7.376425620999489\n",
      "[12.196155244521174, 9.461332730900871, 13.267320794986258, 11.39630715835109, 7.244670581435153, 10.124934414307255, 8.81266043943681, 10.515552730072834, 12.083900250629572, 11.985910552215277, 10.901944692637253, 7.940872167668324, 12.027250444206665, 8.291828255446454, 9.595232277869338, 8.792897009804758, 7.70820236940323, 8.10072183530908, 6.936487163388433, 10.535132869664471, 11.992769752308652, 10.513984588281186, 10.40645775864253, 12.645656079079728, 10.401743103229943, 8.744121656317251, 12.773792006440884, 12.51227247070285, 9.393722138774992, 11.446260943638189, 7.54886847902589, 11.621044004532683, 9.56876233245693, 8.894282219105776, 8.408980293343527, 9.662098278875312, 10.390227344818758, 11.940050683199692, 6.49428052597026, 10.20744168985694, 11.051083873558655, 15.337332126647034, 8.160744619913322, 10.951759601282818, 10.306510456039819, 13.481880654501813, 9.999328143236953, 9.77222204950518, 8.886982978796402, 7.376425620999489]\n"
     ]
    },
    {
     "data": {
      "image/png": "[encoded data removed]",
      "text/plain": [
       "<Figure size 432x288 with 1 Axes>"
      ]
     },
     "metadata": {
      "needs_background": "light"
     },
     "output_type": "display_data"
    },
    {
     "name": "stdout",
     "output_type": "stream",
     "text": [
      "Statistics=0.986, p=0.833\n",
      "KstestResult(statistic=0.9999999999582844, pvalue=0.0)\n",
      "KstestResult(statistic=0.07398306968628432, pvalue=0.9471903920011152)\n"
     ]
    }
   ],
   "source": [
    "normal1=[0] * 50\n",
    "normal12=[]\n",
    "\n",
    "for j in range(50):\n",
    "   value = normalvariate(mu, sd)\n",
    "   print(value)\n",
    "   normal1[j]=value\n",
    " \n",
    "print(normal1)\n",
    "import matplotlib.pyplot as plt\n",
    "fig, ax = plt.subplots(1, 1)\n",
    "_ = plt.hist(normal1, bins='auto') \n",
    "plt.show()\n",
    "\n",
    "stat, p = shapiro(normal1)#Prueba de normalidad shapiro-wilk\n",
    "print('Statistics=%.3f, p=%.3f' % (stat, p))\n",
    "\n",
    "x = kstest(normal1, \"norm\") ###Ks-test   \n",
    "print(x) \n",
    "\n",
    "x = kstest(normal1, \"norm\",args=(10,2)) ###Ks-test   \n",
    "print(x) \n"
   ]
  },
  {
   "cell_type": "code",
   "execution_count": null,
   "metadata": {},
   "outputs": [],
   "source": [
    "#Seleccionar aleatoriamente de una lista"
   ]
  },
  {
   "cell_type": "code",
   "execution_count": 12,
   "metadata": {},
   "outputs": [
    {
     "name": "stdout",
     "output_type": "stream",
     "text": [
      "[0, 1, 2, 3, 4, 5, 6, 7, 8, 9, 10, 11, 12, 13, 14, 15, 16, 17, 18, 19]\n",
      "4\n",
      "18\n",
      "2\n",
      "8\n",
      "3\n"
     ]
    }
   ],
   "source": [
    "from random import seed\n",
    "from random import choice\n",
    "# seed random number generator\n",
    "seed(1)\n",
    "# prepare a sequence\n",
    "sequence = [i for i in range(20)]\n",
    "print(sequence)\n",
    "# make choices from the sequence\n",
    "for _ in range(5):\n",
    "    selection = choice(sequence)\n",
    "    print(selection)"
   ]
  },
  {
   "cell_type": "markdown",
   "metadata": {},
   "source": [
    "# Usando Numpy "
   ]
  },
  {
   "cell_type": "code",
   "execution_count": null,
   "metadata": {},
   "outputs": [],
   "source": []
  },
  {
   "cell_type": "code",
   "execution_count": 13,
   "metadata": {},
   "outputs": [],
   "source": [
    "import numpy as np"
   ]
  },
  {
   "cell_type": "code",
   "execution_count": 16,
   "metadata": {},
   "outputs": [
    {
     "name": "stdout",
     "output_type": "stream",
     "text": [
      "[0.14618029 0.32141134 0.82410345 0.9293682  0.7215912  0.09682721\n",
      " 0.47960806 0.99452084 0.52089165 0.15031272]\n"
     ]
    }
   ],
   "source": [
    "#Uniforme\n",
    "uniforme=np.random.uniform(0,1,10)\n",
    "print(uniforme)"
   ]
  },
  {
   "cell_type": "code",
   "execution_count": 18,
   "metadata": {
    "scrolled": true
   },
   "outputs": [
    {
     "name": "stdout",
     "output_type": "stream",
     "text": [
      "[10.68330849  9.52734781 14.03702845 11.39425601 11.93408056  4.93350599\n",
      " 11.94485965 10.53433185  6.35688329  6.1000838  14.09074748  9.24974751\n",
      " 11.35731275 13.02300614  7.41991118  7.86545061 12.3824935  11.69210517\n",
      "  9.00948874 12.01676167  9.72711257 11.20650808  9.25555714  9.82479458\n",
      "  6.7521748   8.11501807 11.20270419  9.67892868  9.14622683  9.41573844\n",
      "  8.69140903  9.63627377  6.40186092  7.59389036 12.67511166  8.72287204\n",
      " 10.30980211 10.64653985 12.7230359   9.49502564 11.63489571  7.96773791\n",
      "  9.17191221  9.07322071 12.34965812  9.71110971 11.2805835  12.70648475\n",
      " 13.11048179 11.05320011]\n"
     ]
    }
   ],
   "source": [
    "#Normal\n",
    "normal=np.random.normal(loc=10,scale=2,size=50)\n",
    "print(normal)"
   ]
  },
  {
   "cell_type": "code",
   "execution_count": 20,
   "metadata": {},
   "outputs": [
    {
     "name": "stdout",
     "output_type": "stream",
     "text": [
      "[2 6 6 2 5 5 4 4 5 5 4 6 7 4 2 1 6 6 7 3]\n"
     ]
    }
   ],
   "source": [
    "#Binomial\n",
    "binomial=np.random.binomial(n=10,p=0.5,size=20)\n",
    "print(binomial)"
   ]
  },
  {
   "cell_type": "markdown",
   "metadata": {},
   "source": [
    "# Usando scipy\n"
   ]
  },
  {
   "cell_type": "code",
   "execution_count": 12,
   "metadata": {},
   "outputs": [
    {
     "data": {
      "text/plain": [
       "array([-8.17109668e-01,  1.60202042e+00,  2.14534884e-01,  9.59090248e-02,\n",
       "       -6.35676958e-02, -3.34705134e-01, -1.25302328e+00, -1.31522356e+00,\n",
       "       -3.09498268e-02,  4.95235743e-01,  2.01392737e-01, -1.49881335e+00,\n",
       "        3.57916675e-01,  1.18382689e+00, -1.67607703e+00, -2.95515032e-01,\n",
       "       -5.38890099e-01, -1.61306673e+00, -1.39434386e+00, -7.92583969e-01,\n",
       "       -1.10802484e+00, -1.51633437e+00,  9.92507202e-01, -3.60111777e-01,\n",
       "        4.34657840e-01, -8.52850030e-02,  1.76579062e-01, -1.07536463e+00,\n",
       "        7.68871034e-01, -1.90498485e+00,  1.84388197e+00, -7.38908969e-02,\n",
       "       -4.34818339e-01,  1.09236647e+00, -5.54726576e-01, -9.71549065e-01,\n",
       "       -4.74508303e-01,  5.17092633e-01,  4.08968197e-01, -5.25863606e-01,\n",
       "        4.27375141e-01, -8.31298242e-01,  1.78370305e-01, -4.38116473e-01,\n",
       "        1.04057564e+00, -1.34716331e+00, -8.22351281e-01,  8.64803963e-01,\n",
       "       -7.48167549e-01, -2.67544466e+00,  1.47813771e-01,  7.14987703e-02,\n",
       "        1.20847761e+00,  1.92156237e+00,  7.06796976e-01, -2.25498208e-01,\n",
       "       -4.30245031e-01,  8.45484411e-01,  1.76752453e+00, -4.19588758e-01,\n",
       "        2.44767847e-01, -5.38993201e-01, -7.47246329e-02,  3.21987077e+00,\n",
       "       -3.64018192e-01,  1.24374429e+00, -1.94483554e-01, -5.64116867e-01,\n",
       "       -5.17035324e-02, -9.62783707e-01, -6.97263314e-01, -9.85010433e-01,\n",
       "       -1.36686177e+00,  5.45747269e-01, -1.00180237e-02,  2.14792689e-01,\n",
       "        8.74704796e-02, -7.05936872e-01,  2.50191514e-02, -2.44742753e-01,\n",
       "        8.40246453e-01, -5.25006124e-01,  9.63524294e-01, -1.05213069e+00,\n",
       "        7.54996425e-01, -1.36618903e+00, -1.94313791e+00, -5.79221708e-01,\n",
       "       -5.73740451e-01,  1.92536936e-02, -6.50850497e-01,  6.76588585e-01,\n",
       "       -4.74209645e-01, -9.32631978e-01, -5.00253442e-01,  7.05797876e-01,\n",
       "        6.42201055e-01,  9.24795858e-01,  1.13011560e+00, -9.49307679e-01,\n",
       "        1.24639249e+00, -9.34069940e-01, -5.78904838e-01, -6.71545651e-01,\n",
       "        6.74518688e-01,  6.45016271e-01,  1.34483896e-01,  2.20461596e-02,\n",
       "        6.28874756e-01, -6.34299045e-01,  6.00629643e-01,  5.31776165e-01,\n",
       "        4.29820909e-01,  4.36509072e-01,  1.74500539e-02,  4.45022921e-01,\n",
       "       -7.31804070e-01,  4.83753926e-01,  5.86875618e-01,  2.25433995e-02,\n",
       "       -1.45199102e-02, -1.04515122e+00,  1.07916980e+00,  3.31919218e-01,\n",
       "        7.48393742e-01,  1.35520802e-01,  3.88213986e-01, -1.83614463e+00,\n",
       "        1.34182942e+00,  2.47087977e+00,  7.76866910e-01,  7.89364281e-01,\n",
       "        1.16757463e+00, -2.16359708e+00,  5.21037657e-01, -8.77039825e-01,\n",
       "        2.07761567e+00,  2.45387573e+00,  1.66018233e-01,  4.90739310e-01,\n",
       "       -1.05604348e+00, -2.82059345e-01,  4.90642663e-01,  4.47705478e-01,\n",
       "       -1.31202205e-01, -5.02069246e-01, -3.92916333e-01, -5.63909635e-01,\n",
       "        2.32461818e-01, -1.27746903e+00,  1.07071383e+00,  1.39622183e+00,\n",
       "       -8.42961482e-01, -5.58564379e-01,  6.04041726e-01, -1.32705601e+00,\n",
       "       -2.83942507e-01,  1.19216219e+00,  2.67441294e-01, -1.59954655e+00,\n",
       "       -1.03485959e-01, -1.19706425e+00,  6.20199403e-01, -8.32030291e-01,\n",
       "       -9.71181357e-01,  4.34356362e-01, -3.77453574e-01, -6.36569194e-01,\n",
       "       -1.28908369e+00,  3.10864001e-01, -3.07973314e-01, -4.11042347e-01,\n",
       "        2.89702142e-01,  9.41862176e-02,  7.73697991e-01, -6.95706919e-01,\n",
       "       -6.01517145e-01, -8.87723515e-01,  9.32664530e-01, -5.65167363e-01,\n",
       "        6.21172844e-01, -3.55539807e-01, -2.31864574e+00, -6.37454044e-01,\n",
       "        1.54975881e-01,  4.45230589e-01, -3.31296606e-01,  6.84984473e-01,\n",
       "        6.02375507e-01, -1.32599708e+00, -1.04969335e+00,  2.03538079e-01,\n",
       "        6.55225720e-01, -9.95115438e-01,  8.30328688e-01, -1.62172980e+00,\n",
       "       -8.59073876e-01,  1.06198408e+00,  1.27464911e+00,  5.20752945e-01,\n",
       "        1.38519397e-02, -4.43834432e-03, -4.03310788e-01, -8.34808659e-01,\n",
       "        1.26570260e-01, -1.91184702e-01, -1.16542150e+00,  3.48253507e-01,\n",
       "        1.09095330e+00, -7.87611377e-01,  8.19311351e-01, -6.30056874e-01,\n",
       "       -4.55202828e-01,  1.06082435e+00, -6.23280007e-01,  2.22451842e-01,\n",
       "       -2.85755263e-01,  2.74882651e-01,  1.67991969e+00, -4.44788264e-01,\n",
       "       -4.30914587e-01, -6.27394161e-01, -7.27390173e-01,  5.16023144e-01,\n",
       "        3.53818142e-01,  1.62693702e+00, -9.13566021e-01,  4.93809890e-02,\n",
       "        2.39086146e-01,  7.83968040e-01,  2.44341565e-01, -6.36038616e-01,\n",
       "       -2.34505913e-02,  6.70868838e-01, -1.14654616e+00,  7.04438799e-01,\n",
       "        1.46586046e+00,  1.50323623e+00, -3.59924138e-01, -9.64477376e-01,\n",
       "        1.21794965e+00,  7.25167020e-01,  1.16566492e+00,  1.17395760e+00,\n",
       "       -6.00619711e-01, -8.47050243e-02,  1.89717374e+00,  2.03817243e+00,\n",
       "        1.38155071e-01, -1.24494468e+00, -6.56549856e-02, -1.13384836e+00,\n",
       "       -8.81006469e-01,  1.00840928e+00,  4.09667229e-01, -4.03377418e-01,\n",
       "       -7.19145976e-01, -7.25736561e-01, -6.11844698e-02, -7.63875788e-03,\n",
       "       -1.23348009e+00,  9.50992060e-01,  1.20685401e+00, -8.45314755e-01,\n",
       "        1.58070133e+00, -2.58910328e+00,  4.35677746e-01, -4.26868331e-01,\n",
       "        1.02855194e+00,  4.18427322e-01,  2.84379425e-01, -9.98604991e-01,\n",
       "        7.93445688e-01,  1.50377988e-01, -1.80905743e+00, -2.90485577e-01,\n",
       "       -9.13664845e-01, -7.47259014e-02,  1.23146549e-01, -1.33043728e-02,\n",
       "       -1.72536332e+00,  1.07964221e-01,  1.06853502e+00,  1.23585223e+00,\n",
       "       -6.52733992e-01,  1.60762380e-01, -3.78269502e-02, -9.12958298e-01,\n",
       "        1.02687244e+00, -1.01629982e+00,  9.65836680e-01,  5.72195335e-01,\n",
       "        4.62200547e-01,  3.70344719e-01,  1.28270280e+00, -3.26542566e-01,\n",
       "       -2.59547440e-01, -1.51574167e+00, -1.53722305e+00,  1.49956222e+00,\n",
       "        4.76751926e-01,  2.76982766e-01, -6.52421599e-01, -6.11848545e-01,\n",
       "       -1.41330756e+00,  1.13897298e+00,  5.59030178e-02,  9.00139312e-01,\n",
       "        4.71935966e-01,  5.26064579e-01,  2.02354399e+00,  9.63640600e-01,\n",
       "       -2.97189466e-01, -9.71219027e-01, -5.36941747e-01, -1.61539740e+00,\n",
       "        3.62067496e-02, -6.31266994e-01, -1.75166437e+00, -9.11927968e-01,\n",
       "        8.59678377e-01, -6.05292155e-01,  3.02583575e-01, -1.20955183e+00,\n",
       "       -1.60678990e+00,  7.15435482e-01, -1.03694972e+00,  1.30057257e+00,\n",
       "       -8.75776845e-01, -1.38826188e+00, -2.46456002e-01, -2.89160474e-02,\n",
       "        5.55317585e-01, -3.65980662e-02, -8.49011120e-01, -5.80946729e-01,\n",
       "       -4.35293910e-01, -7.29853130e-01, -2.91786738e-02, -2.64239114e-01,\n",
       "        6.92616363e-01, -6.61308697e-03,  1.54733741e-01, -2.11557008e-01,\n",
       "        1.27004713e+00,  1.69109484e+00, -1.66710247e+00, -1.58546112e-01,\n",
       "       -8.70087222e-01, -8.74246670e-01, -1.13122226e-01,  5.90719094e-03,\n",
       "       -2.14335968e+00, -1.95034598e+00, -4.55720147e-01,  1.21519194e+00,\n",
       "       -8.33478662e-01,  7.40187743e-01,  4.99463514e-02, -7.87070616e-01,\n",
       "       -7.91736276e-01,  5.37277937e-01, -1.03430938e+00, -1.39481788e-01,\n",
       "        7.40474397e-01,  6.20506707e-01, -9.66874405e-01, -2.70790167e-01,\n",
       "       -4.00170271e-01, -1.01457206e+00, -8.09805853e-01,  5.92249018e-01,\n",
       "       -2.14580731e+00,  4.32111389e-01, -2.11460163e-01, -4.30660249e-01,\n",
       "       -7.30516828e-01, -1.45459749e+00,  7.61240080e-01,  2.08731115e-01,\n",
       "        1.71273196e-01,  4.90181114e-01,  1.76314519e-01,  1.37406737e+00,\n",
       "        1.25356480e+00,  2.94056652e-01, -1.14246004e+00,  1.13933878e+00,\n",
       "       -7.37467913e-01, -1.78820919e+00, -4.47284575e-02, -1.20641211e+00,\n",
       "       -1.14549230e+00, -1.72600089e-01, -1.25759908e+00,  9.14044488e-01,\n",
       "        1.11509135e+00, -1.51329931e+00,  1.57364066e-01,  8.60708680e-01,\n",
       "        1.18753820e+00, -4.34091680e-01,  6.44379008e-01, -1.46835791e+00,\n",
       "        1.09413436e+00,  7.90326828e-01, -1.47747953e+00,  3.27477348e-01,\n",
       "       -5.55288356e-02,  8.21632043e-01, -9.29194575e-02,  1.94862019e+00,\n",
       "       -6.89067723e-01, -3.33465649e-01, -7.25053471e-01, -5.82783315e-01,\n",
       "        1.75271364e-01,  1.14596573e+00,  1.06335751e+00,  9.24781334e-01,\n",
       "       -1.02754859e-01,  2.25323569e-02,  1.55192220e+00,  2.63736236e-01,\n",
       "        9.04857676e-01, -1.10906427e+00, -4.99383999e-01, -2.76672046e+00,\n",
       "        9.13535980e-01,  1.28350949e+00,  9.91469530e-01, -1.16716156e+00,\n",
       "        5.44253815e-01,  1.77651223e-01, -6.16526277e-01,  1.78934534e-01,\n",
       "        1.29528824e-01, -1.86711169e-01, -8.25345690e-01,  1.10400478e+00,\n",
       "        5.53549103e-01,  4.57503730e-01,  1.71548555e+00,  3.95791361e-01,\n",
       "       -1.69831065e+00,  1.21997301e-01, -1.42545188e+00,  6.36551955e-01,\n",
       "        1.22331959e+00, -7.54785564e-01, -1.07821919e+00,  6.89821566e-02,\n",
       "        1.01129059e+00,  3.41557821e-01,  1.61354473e-02, -1.04442064e+00,\n",
       "       -1.55777025e+00, -1.36554166e-01, -8.88241078e-01, -1.63044284e-01,\n",
       "       -9.36709925e-01, -4.77982964e-02,  1.26123678e+00,  6.44770296e-01,\n",
       "       -1.39087633e+00, -1.08638592e+00, -4.25015082e-01,  3.42787932e-01,\n",
       "        2.43603402e-01,  7.65072842e-01,  6.80546254e-01, -1.60223092e+00,\n",
       "        4.33626093e-01,  3.95632230e-01,  4.45723820e-01,  1.77165974e-01,\n",
       "       -1.53850068e+00,  1.00250356e+00,  2.96994381e-01,  2.24059884e-01,\n",
       "        7.45204295e-01, -6.04973487e-01, -2.91019680e+00, -7.72285691e-02,\n",
       "       -1.22863430e+00, -2.40773662e-01,  2.05649349e+00, -6.06074262e-01,\n",
       "        5.67983026e-01, -1.85875665e+00, -9.95738361e-01, -1.99933952e+00,\n",
       "        2.64745843e-01, -4.79239242e-01, -1.25771973e+00,  8.54458066e-01,\n",
       "        5.72364114e-01,  6.67944166e-01, -1.34783684e-01, -6.99833291e-01,\n",
       "        8.33081753e-01,  1.37031252e+00, -1.07655139e+00, -4.04285194e-02,\n",
       "       -5.58414460e-01, -1.78035894e+00, -1.03920489e+00,  5.85563116e-01,\n",
       "       -1.01539947e+00,  9.90803941e-02, -1.60441325e+00, -1.90319916e+00,\n",
       "        6.31375020e-01,  4.50526280e-02,  2.66228986e+00, -4.65287653e-01,\n",
       "        1.07957745e+00, -9.21705268e-01,  9.58519381e-01, -1.85770889e+00,\n",
       "       -1.05272895e+00,  7.24673285e-01, -5.64882804e-01, -7.99373772e-01,\n",
       "        3.04163884e-01,  1.11926370e+00,  1.28320708e+00, -3.24457356e-01,\n",
       "       -8.15212298e-01,  3.62130481e-01, -6.67497314e-01, -5.76639509e-01,\n",
       "       -8.84278455e-02,  5.52767594e-01, -1.07009286e+00, -4.06618817e-01,\n",
       "        1.54158788e+00, -9.29912130e-01,  2.02249231e+00, -1.27768074e+00,\n",
       "       -1.58985436e+00,  8.02684996e-01,  1.79591315e+00,  8.47149380e-01,\n",
       "       -1.18912730e+00,  6.75551774e-01, -1.10346640e+00,  3.31894253e-01,\n",
       "        5.33558269e-01,  1.47324175e+00, -1.16251622e-01, -1.38024582e+00,\n",
       "       -1.79803409e+00, -5.93454903e-01, -9.25285160e-01,  1.01699597e+00,\n",
       "        7.95376112e-01, -3.63334569e-01,  2.63450067e-02, -3.19822719e-01,\n",
       "        2.38708512e+00, -2.35611650e-01,  8.03016289e-01, -3.88155028e-01,\n",
       "       -1.21045179e+00,  2.95638548e-01,  9.12769510e-01,  1.02995773e+00,\n",
       "        1.13571009e-01,  1.36385220e+00, -7.15215266e-01, -4.13070925e-01,\n",
       "       -1.51320393e-01, -1.99624647e-01, -4.42127730e-01, -3.54043870e-01,\n",
       "        1.15542408e+00,  1.36431616e+00,  1.75725946e+00,  1.26015550e+00,\n",
       "       -5.74490422e-01,  1.47325242e+00, -1.06928955e+00,  1.53780641e-01,\n",
       "        5.65831336e-01,  1.56233377e+00,  2.72854057e-01,  6.22592289e-01,\n",
       "       -1.62782714e-02,  3.98787677e-01,  1.85091388e+00,  7.12337536e-02,\n",
       "        5.12668294e-02,  2.83148439e-02, -8.24475781e-02,  1.10914755e+00,\n",
       "       -4.08945718e-01, -1.09417882e+00, -1.77190536e-01, -1.04596919e+00,\n",
       "       -8.11349240e-01,  1.30224419e+00,  6.38859730e-01,  8.68759597e-01,\n",
       "        1.35397053e+00, -8.13845889e-01, -8.35786030e-01,  9.74420438e-01,\n",
       "       -6.16954762e-01,  2.26221953e+00,  8.68187059e-01, -7.54701539e-02,\n",
       "       -1.02127387e+00, -8.34260417e-02,  1.69478812e+00,  8.91394793e-02,\n",
       "        8.79657874e-01, -1.68247566e+00, -4.48616644e-01, -7.90105882e-03,\n",
       "       -1.54666563e-01,  2.90374418e-01,  1.16517903e-01, -1.65318224e+00,\n",
       "        7.88735218e-01,  1.43105485e+00, -1.10019015e+00, -6.17620770e-01,\n",
       "       -5.74477906e-01, -2.42204732e+00, -1.12142569e+00, -7.61130174e-01,\n",
       "       -1.01087338e+00, -1.39978679e+00, -1.31328616e+00, -2.53212888e-01,\n",
       "       -1.36174532e+00,  4.09333833e-01,  6.90644907e-01, -1.27391460e+00,\n",
       "        1.28667431e+00, -3.09045826e+00, -8.38657945e-01, -2.89517779e-01,\n",
       "        6.91210145e-01,  2.96814892e-01,  1.41720404e+00,  4.21521731e-02,\n",
       "        3.81459441e-01, -1.26538217e+00,  1.08313384e+00,  1.05722964e+00,\n",
       "       -1.17334301e+00, -7.49500305e-01,  1.53466389e+00, -8.82592312e-01,\n",
       "        1.44338107e+00,  2.71204190e-01,  1.89093205e+00,  4.74207534e-01,\n",
       "       -1.45396980e+00,  2.24137951e+00, -5.07088139e-01,  6.79054647e-01,\n",
       "       -1.34200992e+00,  3.91025487e-01,  4.64119619e-01, -3.57502213e-01,\n",
       "        2.34644326e-01, -2.20174864e-01,  8.24411143e-01,  4.13292170e-01,\n",
       "        7.36528711e-01,  6.41740485e-01,  1.28983834e+00,  9.51959029e-01,\n",
       "        1.38922785e+00, -1.69337217e+00, -4.07882255e-01, -2.92001738e+00,\n",
       "        1.10505576e+00,  3.73146806e-01,  1.68672200e+00,  4.24339579e-01,\n",
       "       -5.31991701e-01, -7.06465764e-01, -1.17878339e+00,  7.61530021e-01,\n",
       "       -7.15992188e-01,  7.33797083e-01,  2.82609806e-01,  1.36613871e+00,\n",
       "       -1.12299009e+00, -2.04294117e+00,  5.13235092e-01, -4.72460868e-01,\n",
       "       -2.04835139e+00,  8.85154251e-01, -6.28892349e-01, -1.26436722e+00,\n",
       "       -2.61600201e-01, -2.47270072e-01, -2.41781421e+00,  2.12717358e-01,\n",
       "        7.13075419e-01,  1.48004984e+00, -1.97494966e-01,  2.17754437e-01,\n",
       "       -5.16921028e-01, -1.02692234e+00, -2.04626894e+00, -1.01336854e+00,\n",
       "       -1.09201668e-01,  8.47516181e-01, -1.21659593e+00, -1.62329314e+00,\n",
       "        2.93931916e-02,  1.06809779e-01,  7.12786021e-01, -2.46272417e-01,\n",
       "        2.72684848e-01,  3.27000953e-02, -3.22170476e-01, -2.37583343e-02,\n",
       "       -1.20164373e+00, -1.19809957e+00,  4.63138710e-01, -1.79963554e+00,\n",
       "       -9.40398374e-01,  2.43541367e-01, -5.89687900e-01, -5.91753217e-01,\n",
       "        6.67259673e-01,  7.01810537e-01, -5.95435373e-01, -5.80478659e-01,\n",
       "        8.74793790e-01, -1.55977257e+00, -2.70462768e-01, -1.67927042e-01,\n",
       "       -1.78651443e-01, -2.05578656e+00, -1.04363978e-01, -1.08053388e-01,\n",
       "        2.90513471e-01, -8.24799310e-01,  1.15423005e+00,  2.23069069e-01,\n",
       "       -1.91678115e-01, -6.02902894e-01,  1.55107920e+00, -3.99681132e-02,\n",
       "        2.97454381e-01, -8.77773315e-01, -5.85323271e-02, -6.09597595e-01,\n",
       "       -1.84019290e+00, -1.35504439e+00, -8.07892201e-01,  2.39946159e-01,\n",
       "       -7.79090480e-01,  3.17679752e-01, -2.11853569e+00, -6.05831979e-01,\n",
       "        7.26872032e-02, -1.61431747e+00, -8.40395232e-01, -8.13397032e-01,\n",
       "        2.27646950e+00, -3.49599047e-02, -2.88694713e-01, -1.14972624e+00,\n",
       "        3.22402738e-01,  1.65603165e+00, -1.19189468e+00,  2.43884242e-01,\n",
       "       -1.27824111e+00,  3.81910861e-01, -5.23118410e-01,  1.75734286e+00,\n",
       "       -1.45195571e+00, -4.54308679e-01, -2.25040424e+00, -5.92113897e-01,\n",
       "        7.83813220e-01,  7.00235162e-01,  1.31066592e-01,  8.68696684e-01,\n",
       "       -1.07144504e+00, -6.52402546e-01,  4.46647477e-01,  1.56435249e-01,\n",
       "        5.65269467e-01, -2.13197205e+00, -1.89377820e-01,  3.22031349e-02,\n",
       "       -3.51766214e-01, -4.84756538e-01,  3.14473127e-02, -1.06906246e+00,\n",
       "        1.07177978e+00, -2.00705660e+00, -2.79787998e-01, -1.30727268e-01,\n",
       "        2.40560193e+00,  1.79688104e+00,  4.64563927e-02,  2.20080351e-01,\n",
       "        7.93507034e-01, -3.60454036e-01, -9.18040579e-01, -5.91935406e-03,\n",
       "       -8.55793445e-01,  1.54726149e+00, -2.67916351e+00, -2.88037584e+00,\n",
       "       -1.12958252e+00, -4.15997119e-02, -1.09915311e+00,  1.17137293e+00,\n",
       "       -3.67097283e-02, -1.28060335e+00, -1.50364459e+00, -1.77772999e+00,\n",
       "       -8.76812217e-01,  3.95293964e-01,  1.67869158e+00,  4.33650347e-01,\n",
       "        1.26076084e+00, -2.66397540e-01, -1.75325702e+00,  9.72392126e-01,\n",
       "       -1.56788820e+00, -8.35368411e-01, -1.83388259e+00,  1.32916355e+00,\n",
       "       -7.57043557e-01, -1.13388735e+00, -1.35555738e+00,  1.54425947e+00,\n",
       "        3.46181978e-01, -2.62342365e+00, -2.80577866e-03, -5.19245544e-01,\n",
       "       -7.68876297e-02, -1.07408815e+00, -9.09606049e-01,  1.63266072e+00,\n",
       "        1.64027801e-01, -3.89407242e-01,  3.73354042e-01,  1.03614997e+00,\n",
       "       -1.63274139e+00,  2.68664808e-01,  2.71732317e-01,  6.97867081e-01,\n",
       "       -8.42874624e-01, -3.40862081e-01,  5.89467218e-01,  1.63485893e+00,\n",
       "        5.52363029e-01,  7.56989831e-01, -1.11765987e+00,  6.00054315e-01,\n",
       "        9.86240490e-01,  3.72909719e-01, -2.22561022e-01, -7.47485946e-01,\n",
       "        2.41625130e+00,  2.54799056e+00,  7.65707382e-02, -9.60652402e-01,\n",
       "        6.10859496e-01, -1.61967407e+00, -4.52033390e-02,  1.84408582e+00,\n",
       "       -8.07752811e-01, -3.27309820e-01,  6.43973105e-01, -1.19625793e+00,\n",
       "        7.42419091e-02, -1.15548471e-01, -9.38677530e-01,  1.51270063e+00,\n",
       "       -1.16635799e+00, -1.49219262e+00, -3.71972706e-01,  1.19957853e-01,\n",
       "        1.00357571e+00,  9.38979361e-01,  1.18697718e+00, -8.63580722e-01,\n",
       "        1.15916342e+00,  7.36563121e-01, -1.63342099e+00, -2.59756090e-01,\n",
       "       -9.00210778e-01, -1.92029531e+00,  2.78520916e-01,  1.36852941e+00,\n",
       "       -1.29033834e+00, -7.36555358e-01,  1.63534622e+00, -5.64585707e-01,\n",
       "       -4.06333740e-01, -3.68762336e-01,  1.52175806e-01, -1.01090347e+00,\n",
       "       -7.04014169e-01,  3.74065044e-01, -4.37952870e-01, -9.24629160e-01,\n",
       "        2.22380340e-01, -1.70813758e-01, -1.11247239e+00,  4.94980453e-01,\n",
       "        8.00414477e-02, -8.14934998e-01, -8.91225563e-01, -5.18304938e-01,\n",
       "        3.58527118e-01,  1.36109509e+00,  1.72989783e+00,  3.28945055e-01,\n",
       "        5.40191537e-01, -3.66290511e-01,  9.06009374e-01, -1.21840158e+00,\n",
       "       -8.00423686e-01, -1.53074281e-01, -1.05169717e-01,  7.20573723e-01,\n",
       "       -6.29188324e-01, -2.25217327e+00,  2.80563992e-01, -1.49745456e+00,\n",
       "        1.57218141e-01,  5.55407309e-02,  5.18754094e-01,  5.45458669e-01,\n",
       "       -1.34271358e+00,  1.06390194e+00, -7.07145955e-01, -6.96927397e-01,\n",
       "        1.30219756e+00,  2.08678915e+00, -7.58507816e-01, -1.09447902e+00,\n",
       "        8.01677981e-02, -1.32644546e-01,  7.67566006e-01,  1.40011444e+00,\n",
       "        1.91386573e-03,  3.74271599e+00, -7.82895797e-01, -1.88788996e-01,\n",
       "       -4.70182295e-02, -5.50857742e-01, -1.23835875e+00,  8.30786207e-01,\n",
       "        3.79313634e-01, -8.20686192e-01,  1.29192990e-01, -1.85167353e+00,\n",
       "        5.78376685e-01, -5.25935320e-01,  6.24788745e-02,  7.62469362e-02,\n",
       "        1.03077536e+00,  3.71894443e-01, -2.81487524e-02, -4.51657013e-01,\n",
       "       -1.40628868e-01,  9.75770417e-01,  7.46799308e-01, -7.93452507e-01,\n",
       "        6.09621845e-01,  5.93321493e-01, -6.14680228e-01, -1.68835019e+00,\n",
       "       -8.56436800e-01, -2.83597044e-01,  1.05174638e+00,  1.91019849e+00,\n",
       "       -2.42803358e-01, -1.85619401e+00, -1.69371539e-01, -4.65886338e-01,\n",
       "       -5.77979877e-02, -1.36197765e+00, -1.98638474e-01, -5.58863541e-01,\n",
       "        5.93729934e-01,  1.34479969e+00, -3.65123267e-01,  4.18468032e-01,\n",
       "        1.55158163e+00,  6.35373313e-01, -1.46660454e+00,  6.44815851e-01])"
      ]
     },
     "execution_count": 12,
     "metadata": {},
     "output_type": "execute_result"
    }
   ],
   "source": [
    "import scipy as sp\n",
    "sp.stats.norm.rvs(loc=0, scale=1, size=1000)"
   ]
  },
  {
   "cell_type": "code",
   "execution_count": null,
   "metadata": {},
   "outputs": [],
   "source": []
  }
 ],
 "metadata": {
  "kernelspec": {
   "display_name": "Python 3",
   "language": "python",
   "name": "python3"
  },
  "language_info": {
   "codemirror_mode": {
    "name": "ipython",
    "version": 3
   },
   "file_extension": ".py",
   "mimetype": "text/x-python",
   "name": "python",
   "nbconvert_exporter": "python",
   "pygments_lexer": "ipython3",
   "version": "3.7.4"
  }
 },
 "nbformat": 4,
 "nbformat_minor": 2
}
